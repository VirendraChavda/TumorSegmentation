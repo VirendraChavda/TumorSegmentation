{
 "cells": [
  {
   "cell_type": "code",
   "execution_count": 1,
   "metadata": {},
   "outputs": [],
   "source": [
    "# import torch\n",
    "# print(torch.backends.cudnn.is_available())  # Should return True\n",
    "# print(torch.backends.cudnn.version())       # Displays cuDNN version"
   ]
  },
  {
   "cell_type": "code",
   "execution_count": 1,
   "metadata": {},
   "outputs": [
    {
     "name": "stdout",
     "output_type": "stream",
     "text": [
      "Downloading https://github.com/ultralytics/assets/releases/download/v8.3.0/yolo11n-seg.pt to 'yolo11n-seg.pt'...\n"
     ]
    },
    {
     "name": "stderr",
     "output_type": "stream",
     "text": [
      "100%|██████████| 5.90M/5.90M [00:00<00:00, 6.26MB/s]\n"
     ]
    },
    {
     "name": "stdout",
     "output_type": "stream",
     "text": [
      "Ultralytics 8.3.31  Python-3.10.10 torch-2.5.1+cu124 CUDA:0 (NVIDIA GeForce GTX 1650, 4096MiB)\n",
      "\u001b[34m\u001b[1mengine\\trainer: \u001b[0mtask=segment, mode=train, model=yolo11n-seg.pt, data=C:\\Users\\viren\\Portfolio\\Segmentation\\data\\data.yaml, epochs=20, time=None, patience=100, batch=16, imgsz=400, save=True, save_period=-1, cache=False, device=cuda, workers=8, project=None, name=train, exist_ok=False, pretrained=True, optimizer=auto, verbose=True, seed=0, deterministic=True, single_cls=False, rect=False, cos_lr=False, close_mosaic=10, resume=False, amp=False, fraction=1.0, profile=False, freeze=None, multi_scale=False, overlap_mask=True, mask_ratio=4, dropout=0.0, val=True, split=val, save_json=False, save_hybrid=False, conf=None, iou=0.7, max_det=300, half=False, dnn=False, plots=True, source=None, vid_stride=1, stream_buffer=False, visualize=False, augment=False, agnostic_nms=False, classes=None, retina_masks=False, embed=None, show=False, save_frames=False, save_txt=False, save_conf=False, save_crop=False, show_labels=True, show_conf=True, show_boxes=True, line_width=None, format=torchscript, keras=False, optimize=False, int8=False, dynamic=False, simplify=True, opset=None, workspace=4, nms=False, lr0=0.01, lrf=0.01, momentum=0.937, weight_decay=0.0005, warmup_epochs=3.0, warmup_momentum=0.8, warmup_bias_lr=0.1, box=7.5, cls=0.5, dfl=1.5, pose=12.0, kobj=1.0, label_smoothing=0.0, nbs=64, hsv_h=0.015, hsv_s=0.7, hsv_v=0.4, degrees=0.0, translate=0.1, scale=0.5, shear=0.0, perspective=0.0, flipud=0.0, fliplr=0.5, bgr=0.0, mosaic=1.0, mixup=0.0, copy_paste=0.0, copy_paste_mode=flip, auto_augment=randaugment, erasing=0.4, crop_fraction=1.0, cfg=None, tracker=botsort.yaml, save_dir=runs\\segment\\train\n",
      "Overriding model.yaml nc=80 with nc=1\n",
      "\n",
      "                   from  n    params  module                                       arguments                     \n",
      "  0                  -1  1       464  ultralytics.nn.modules.conv.Conv             [3, 16, 3, 2]                 \n",
      "  1                  -1  1      4672  ultralytics.nn.modules.conv.Conv             [16, 32, 3, 2]                \n",
      "  2                  -1  1      6640  ultralytics.nn.modules.block.C3k2            [32, 64, 1, False, 0.25]      \n",
      "  3                  -1  1     36992  ultralytics.nn.modules.conv.Conv             [64, 64, 3, 2]                \n",
      "  4                  -1  1     26080  ultralytics.nn.modules.block.C3k2            [64, 128, 1, False, 0.25]     \n",
      "  5                  -1  1    147712  ultralytics.nn.modules.conv.Conv             [128, 128, 3, 2]              \n",
      "  6                  -1  1     87040  ultralytics.nn.modules.block.C3k2            [128, 128, 1, True]           \n",
      "  7                  -1  1    295424  ultralytics.nn.modules.conv.Conv             [128, 256, 3, 2]              \n",
      "  8                  -1  1    346112  ultralytics.nn.modules.block.C3k2            [256, 256, 1, True]           \n",
      "  9                  -1  1    164608  ultralytics.nn.modules.block.SPPF            [256, 256, 5]                 \n",
      " 10                  -1  1    249728  ultralytics.nn.modules.block.C2PSA           [256, 256, 1]                 \n",
      " 11                  -1  1         0  torch.nn.modules.upsampling.Upsample         [None, 2, 'nearest']          \n",
      " 12             [-1, 6]  1         0  ultralytics.nn.modules.conv.Concat           [1]                           \n",
      " 13                  -1  1    111296  ultralytics.nn.modules.block.C3k2            [384, 128, 1, False]          \n",
      " 14                  -1  1         0  torch.nn.modules.upsampling.Upsample         [None, 2, 'nearest']          \n",
      " 15             [-1, 4]  1         0  ultralytics.nn.modules.conv.Concat           [1]                           \n",
      " 16                  -1  1     32096  ultralytics.nn.modules.block.C3k2            [256, 64, 1, False]           \n",
      " 17                  -1  1     36992  ultralytics.nn.modules.conv.Conv             [64, 64, 3, 2]                \n",
      " 18            [-1, 13]  1         0  ultralytics.nn.modules.conv.Concat           [1]                           \n",
      " 19                  -1  1     86720  ultralytics.nn.modules.block.C3k2            [192, 128, 1, False]          \n",
      " 20                  -1  1    147712  ultralytics.nn.modules.conv.Conv             [128, 128, 3, 2]              \n",
      " 21            [-1, 10]  1         0  ultralytics.nn.modules.conv.Concat           [1]                           \n",
      " 22                  -1  1    378880  ultralytics.nn.modules.block.C3k2            [384, 256, 1, True]           \n",
      " 23        [16, 19, 22]  1    683635  ultralytics.nn.modules.head.Segment          [1, 32, 64, [64, 128, 256]]   \n",
      "YOLO11n-seg summary: 355 layers, 2,842,803 parameters, 2,842,787 gradients, 10.4 GFLOPs\n",
      "\n",
      "Transferred 510/561 items from pretrained weights\n",
      "Freezing layer 'model.23.dfl.conv.weight'\n",
      "WARNING  imgsz=[400] must be multiple of max stride 32, updating to [416]\n"
     ]
    },
    {
     "name": "stderr",
     "output_type": "stream",
     "text": [
      "\u001b[34m\u001b[1mtrain: \u001b[0mScanning C:\\Users\\viren\\Portfolio\\Segmentation\\data\\train\\labels... 583 images, 2 backgrounds, 0 corrupt: 100%|██████████| 583/583 [00:00<00:00, 1177.82it/s]"
     ]
    },
    {
     "name": "stdout",
     "output_type": "stream",
     "text": [
      "\u001b[34m\u001b[1mtrain: \u001b[0mNew cache created: C:\\Users\\viren\\Portfolio\\Segmentation\\data\\train\\labels.cache\n"
     ]
    },
    {
     "name": "stderr",
     "output_type": "stream",
     "text": [
      "\n",
      "\u001b[34m\u001b[1mval: \u001b[0mScanning C:\\Users\\viren\\Portfolio\\Segmentation\\data\\valid\\labels... 123 images, 1 backgrounds, 0 corrupt: 100%|██████████| 123/123 [00:00<00:00, 655.49it/s]"
     ]
    },
    {
     "name": "stdout",
     "output_type": "stream",
     "text": [
      "\u001b[34m\u001b[1mval: \u001b[0mNew cache created: C:\\Users\\viren\\Portfolio\\Segmentation\\data\\valid\\labels.cache\n"
     ]
    },
    {
     "name": "stderr",
     "output_type": "stream",
     "text": [
      "\n"
     ]
    },
    {
     "name": "stdout",
     "output_type": "stream",
     "text": [
      "Plotting labels to runs\\segment\\train\\labels.jpg... \n",
      "\u001b[34m\u001b[1moptimizer:\u001b[0m 'optimizer=auto' found, ignoring 'lr0=0.01' and 'momentum=0.937' and determining best 'optimizer', 'lr0' and 'momentum' automatically... \n",
      "\u001b[34m\u001b[1moptimizer:\u001b[0m AdamW(lr=0.002, momentum=0.9) with parameter groups 90 weight(decay=0.0), 101 weight(decay=0.0005), 100 bias(decay=0.0)\n",
      "Image sizes 416 train, 416 val\n",
      "Using 8 dataloader workers\n",
      "Logging results to \u001b[1mruns\\segment\\train\u001b[0m\n",
      "Starting training for 20 epochs...\n",
      "\n",
      "      Epoch    GPU_mem   box_loss   seg_loss   cls_loss   dfl_loss  Instances       Size\n"
     ]
    },
    {
     "name": "stderr",
     "output_type": "stream",
     "text": [
      "       1/20      2.36G      1.101      1.985      2.342      1.161         14        416: 100%|██████████| 37/37 [00:14<00:00,  2.62it/s]\n",
      "                 Class     Images  Instances      Box(P          R      mAP50  mAP50-95)     Mask(P          R      mAP50  mAP50-95): 100%|██████████| 4/4 [00:02<00:00,  1.90it/s]"
     ]
    },
    {
     "name": "stdout",
     "output_type": "stream",
     "text": [
      "                   all        123        126          1      0.246      0.683      0.403          1      0.246      0.678      0.353\n"
     ]
    },
    {
     "name": "stderr",
     "output_type": "stream",
     "text": [
      "\n"
     ]
    },
    {
     "name": "stdout",
     "output_type": "stream",
     "text": [
      "\n",
      "      Epoch    GPU_mem   box_loss   seg_loss   cls_loss   dfl_loss  Instances       Size\n"
     ]
    },
    {
     "name": "stderr",
     "output_type": "stream",
     "text": [
      "       2/20      2.38G      1.139      1.788      1.453      1.169         18        416: 100%|██████████| 37/37 [00:12<00:00,  3.01it/s]\n",
      "                 Class     Images  Instances      Box(P          R      mAP50  mAP50-95)     Mask(P          R      mAP50  mAP50-95): 100%|██████████| 4/4 [00:01<00:00,  2.24it/s]"
     ]
    },
    {
     "name": "stdout",
     "output_type": "stream",
     "text": [
      "                   all        123        126      0.669      0.627      0.705      0.432      0.559      0.514      0.497      0.217\n"
     ]
    },
    {
     "name": "stderr",
     "output_type": "stream",
     "text": [
      "\n"
     ]
    },
    {
     "name": "stdout",
     "output_type": "stream",
     "text": [
      "\n",
      "      Epoch    GPU_mem   box_loss   seg_loss   cls_loss   dfl_loss  Instances       Size\n"
     ]
    },
    {
     "name": "stderr",
     "output_type": "stream",
     "text": [
      "       3/20      2.37G      1.224      1.844      1.398      1.226         12        416: 100%|██████████| 37/37 [00:12<00:00,  3.08it/s]\n",
      "                 Class     Images  Instances      Box(P          R      mAP50  mAP50-95)     Mask(P          R      mAP50  mAP50-95): 100%|██████████| 4/4 [00:01<00:00,  2.38it/s]"
     ]
    },
    {
     "name": "stdout",
     "output_type": "stream",
     "text": [
      "                   all        123        126      0.706      0.628      0.717      0.466       0.69      0.659      0.727      0.461\n"
     ]
    },
    {
     "name": "stderr",
     "output_type": "stream",
     "text": [
      "\n"
     ]
    },
    {
     "name": "stdout",
     "output_type": "stream",
     "text": [
      "\n",
      "      Epoch    GPU_mem   box_loss   seg_loss   cls_loss   dfl_loss  Instances       Size\n"
     ]
    },
    {
     "name": "stderr",
     "output_type": "stream",
     "text": [
      "       4/20      2.37G      1.189       1.75      1.239      1.231         19        416: 100%|██████████| 37/37 [00:11<00:00,  3.11it/s]\n",
      "                 Class     Images  Instances      Box(P          R      mAP50  mAP50-95)     Mask(P          R      mAP50  mAP50-95): 100%|██████████| 4/4 [00:01<00:00,  2.27it/s]"
     ]
    },
    {
     "name": "stdout",
     "output_type": "stream",
     "text": [
      "                   all        123        126    0.00919      0.254    0.00834     0.0033     0.0093      0.214    0.00664    0.00222\n"
     ]
    },
    {
     "name": "stderr",
     "output_type": "stream",
     "text": [
      "\n"
     ]
    },
    {
     "name": "stdout",
     "output_type": "stream",
     "text": [
      "\n",
      "      Epoch    GPU_mem   box_loss   seg_loss   cls_loss   dfl_loss  Instances       Size\n"
     ]
    },
    {
     "name": "stderr",
     "output_type": "stream",
     "text": [
      "       5/20      2.38G      1.146      1.731      1.162      1.195         14        416: 100%|██████████| 37/37 [00:11<00:00,  3.13it/s]\n",
      "                 Class     Images  Instances      Box(P          R      mAP50  mAP50-95)     Mask(P          R      mAP50  mAP50-95): 100%|██████████| 4/4 [00:01<00:00,  2.55it/s]"
     ]
    },
    {
     "name": "stdout",
     "output_type": "stream",
     "text": [
      "                   all        123        126      0.781      0.624      0.723      0.487      0.764      0.579       0.66      0.381\n"
     ]
    },
    {
     "name": "stderr",
     "output_type": "stream",
     "text": [
      "\n"
     ]
    },
    {
     "name": "stdout",
     "output_type": "stream",
     "text": [
      "\n",
      "      Epoch    GPU_mem   box_loss   seg_loss   cls_loss   dfl_loss  Instances       Size\n"
     ]
    },
    {
     "name": "stderr",
     "output_type": "stream",
     "text": [
      "       6/20      2.38G      1.126      1.707      1.074      1.183         12        416: 100%|██████████| 37/37 [00:11<00:00,  3.12it/s]\n",
      "                 Class     Images  Instances      Box(P          R      mAP50  mAP50-95)     Mask(P          R      mAP50  mAP50-95): 100%|██████████| 4/4 [00:01<00:00,  2.33it/s]"
     ]
    },
    {
     "name": "stdout",
     "output_type": "stream",
     "text": [
      "                   all        123        126      0.857      0.853       0.91      0.627      0.857      0.853       0.91      0.619\n"
     ]
    },
    {
     "name": "stderr",
     "output_type": "stream",
     "text": [
      "\n"
     ]
    },
    {
     "name": "stdout",
     "output_type": "stream",
     "text": [
      "\n",
      "      Epoch    GPU_mem   box_loss   seg_loss   cls_loss   dfl_loss  Instances       Size\n"
     ]
    },
    {
     "name": "stderr",
     "output_type": "stream",
     "text": [
      "       7/20      2.17G      1.077      1.658       1.01      1.152         17        416: 100%|██████████| 37/37 [00:11<00:00,  3.11it/s]\n",
      "                 Class     Images  Instances      Box(P          R      mAP50  mAP50-95)     Mask(P          R      mAP50  mAP50-95): 100%|██████████| 4/4 [00:01<00:00,  2.55it/s]"
     ]
    },
    {
     "name": "stdout",
     "output_type": "stream",
     "text": [
      "                   all        123        126      0.903      0.812       0.91      0.649      0.903      0.812       0.91      0.625\n"
     ]
    },
    {
     "name": "stderr",
     "output_type": "stream",
     "text": [
      "\n"
     ]
    },
    {
     "name": "stdout",
     "output_type": "stream",
     "text": [
      "\n",
      "      Epoch    GPU_mem   box_loss   seg_loss   cls_loss   dfl_loss  Instances       Size\n"
     ]
    },
    {
     "name": "stderr",
     "output_type": "stream",
     "text": [
      "       8/20      2.38G      1.055      1.604     0.9587      1.167         16        416: 100%|██████████| 37/37 [00:12<00:00,  3.05it/s]\n",
      "                 Class     Images  Instances      Box(P          R      mAP50  mAP50-95)     Mask(P          R      mAP50  mAP50-95): 100%|██████████| 4/4 [00:01<00:00,  2.46it/s]"
     ]
    },
    {
     "name": "stdout",
     "output_type": "stream",
     "text": [
      "                   all        123        126      0.908      0.952      0.969      0.705      0.908      0.952      0.969      0.684\n"
     ]
    },
    {
     "name": "stderr",
     "output_type": "stream",
     "text": [
      "\n"
     ]
    },
    {
     "name": "stdout",
     "output_type": "stream",
     "text": [
      "\n",
      "      Epoch    GPU_mem   box_loss   seg_loss   cls_loss   dfl_loss  Instances       Size\n"
     ]
    },
    {
     "name": "stderr",
     "output_type": "stream",
     "text": [
      "       9/20      2.16G       1.01      1.622     0.8665      1.127         15        416: 100%|██████████| 37/37 [00:11<00:00,  3.10it/s]\n",
      "                 Class     Images  Instances      Box(P          R      mAP50  mAP50-95)     Mask(P          R      mAP50  mAP50-95): 100%|██████████| 4/4 [00:01<00:00,  2.60it/s]"
     ]
    },
    {
     "name": "stdout",
     "output_type": "stream",
     "text": [
      "                   all        123        126      0.904      0.952       0.96       0.69      0.912       0.96      0.971      0.662\n"
     ]
    },
    {
     "name": "stderr",
     "output_type": "stream",
     "text": [
      "\n"
     ]
    },
    {
     "name": "stdout",
     "output_type": "stream",
     "text": [
      "\n",
      "      Epoch    GPU_mem   box_loss   seg_loss   cls_loss   dfl_loss  Instances       Size\n"
     ]
    },
    {
     "name": "stderr",
     "output_type": "stream",
     "text": [
      "      10/20      2.16G      1.036      1.611     0.8684       1.15         14        416: 100%|██████████| 37/37 [00:11<00:00,  3.17it/s]\n",
      "                 Class     Images  Instances      Box(P          R      mAP50  mAP50-95)     Mask(P          R      mAP50  mAP50-95): 100%|██████████| 4/4 [00:01<00:00,  2.51it/s]"
     ]
    },
    {
     "name": "stdout",
     "output_type": "stream",
     "text": [
      "                   all        123        126      0.913      0.881      0.928      0.696      0.913      0.881      0.919       0.68\n"
     ]
    },
    {
     "name": "stderr",
     "output_type": "stream",
     "text": [
      "\n"
     ]
    },
    {
     "name": "stdout",
     "output_type": "stream",
     "text": [
      "Closing dataloader mosaic\n",
      "\n",
      "      Epoch    GPU_mem   box_loss   seg_loss   cls_loss   dfl_loss  Instances       Size\n"
     ]
    },
    {
     "name": "stderr",
     "output_type": "stream",
     "text": [
      "      11/20      2.16G     0.9033      1.416      0.774      1.096          7        416: 100%|██████████| 37/37 [00:12<00:00,  2.99it/s]\n",
      "                 Class     Images  Instances      Box(P          R      mAP50  mAP50-95)     Mask(P          R      mAP50  mAP50-95): 100%|██████████| 4/4 [00:01<00:00,  2.37it/s]"
     ]
    },
    {
     "name": "stdout",
     "output_type": "stream",
     "text": [
      "                   all        123        126      0.901      0.968      0.944      0.688      0.901      0.968       0.95      0.675\n"
     ]
    },
    {
     "name": "stderr",
     "output_type": "stream",
     "text": [
      "\n"
     ]
    },
    {
     "name": "stdout",
     "output_type": "stream",
     "text": [
      "\n",
      "      Epoch    GPU_mem   box_loss   seg_loss   cls_loss   dfl_loss  Instances       Size\n"
     ]
    },
    {
     "name": "stderr",
     "output_type": "stream",
     "text": [
      "      12/20      2.16G     0.8802      1.373     0.6699      1.069          7        416: 100%|██████████| 37/37 [00:11<00:00,  3.16it/s]\n",
      "                 Class     Images  Instances      Box(P          R      mAP50  mAP50-95)     Mask(P          R      mAP50  mAP50-95): 100%|██████████| 4/4 [00:01<00:00,  2.36it/s]"
     ]
    },
    {
     "name": "stdout",
     "output_type": "stream",
     "text": [
      "                   all        123        126       0.96      0.957      0.985      0.714       0.96      0.957      0.986      0.711\n"
     ]
    },
    {
     "name": "stderr",
     "output_type": "stream",
     "text": [
      "\n"
     ]
    },
    {
     "name": "stdout",
     "output_type": "stream",
     "text": [
      "\n",
      "      Epoch    GPU_mem   box_loss   seg_loss   cls_loss   dfl_loss  Instances       Size\n"
     ]
    },
    {
     "name": "stderr",
     "output_type": "stream",
     "text": [
      "      13/20      2.15G     0.8568       1.35     0.6466      1.072          8        416: 100%|██████████| 37/37 [00:12<00:00,  3.08it/s]\n",
      "                 Class     Images  Instances      Box(P          R      mAP50  mAP50-95)     Mask(P          R      mAP50  mAP50-95): 100%|██████████| 4/4 [00:01<00:00,  2.29it/s]"
     ]
    },
    {
     "name": "stdout",
     "output_type": "stream",
     "text": [
      "                   all        123        126       0.96      0.976      0.975       0.75       0.96      0.976      0.975      0.725\n"
     ]
    },
    {
     "name": "stderr",
     "output_type": "stream",
     "text": [
      "\n"
     ]
    },
    {
     "name": "stdout",
     "output_type": "stream",
     "text": [
      "\n",
      "      Epoch    GPU_mem   box_loss   seg_loss   cls_loss   dfl_loss  Instances       Size\n"
     ]
    },
    {
     "name": "stderr",
     "output_type": "stream",
     "text": [
      "      14/20      2.15G     0.8326       1.32     0.6318      1.056          8        416: 100%|██████████| 37/37 [00:11<00:00,  3.13it/s]\n",
      "                 Class     Images  Instances      Box(P          R      mAP50  mAP50-95)     Mask(P          R      mAP50  mAP50-95): 100%|██████████| 4/4 [00:01<00:00,  2.26it/s]"
     ]
    },
    {
     "name": "stdout",
     "output_type": "stream",
     "text": [
      "                   all        123        126      0.968      0.968      0.983       0.75      0.968      0.968      0.983      0.748\n"
     ]
    },
    {
     "name": "stderr",
     "output_type": "stream",
     "text": [
      "\n"
     ]
    },
    {
     "name": "stdout",
     "output_type": "stream",
     "text": [
      "\n",
      "      Epoch    GPU_mem   box_loss   seg_loss   cls_loss   dfl_loss  Instances       Size\n"
     ]
    },
    {
     "name": "stderr",
     "output_type": "stream",
     "text": [
      "      15/20      2.15G     0.8113      1.266     0.5713      1.047          8        416: 100%|██████████| 37/37 [00:11<00:00,  3.09it/s]\n",
      "                 Class     Images  Instances      Box(P          R      mAP50  mAP50-95)     Mask(P          R      mAP50  mAP50-95): 100%|██████████| 4/4 [00:01<00:00,  2.39it/s]"
     ]
    },
    {
     "name": "stdout",
     "output_type": "stream",
     "text": [
      "                   all        123        126      0.975      0.976      0.983      0.764      0.975      0.976      0.983      0.753\n"
     ]
    },
    {
     "name": "stderr",
     "output_type": "stream",
     "text": [
      "\n"
     ]
    },
    {
     "name": "stdout",
     "output_type": "stream",
     "text": [
      "\n",
      "      Epoch    GPU_mem   box_loss   seg_loss   cls_loss   dfl_loss  Instances       Size\n"
     ]
    },
    {
     "name": "stderr",
     "output_type": "stream",
     "text": [
      "      16/20      2.15G     0.7806      1.223     0.5402      1.026          7        416: 100%|██████████| 37/37 [00:11<00:00,  3.18it/s]\n",
      "                 Class     Images  Instances      Box(P          R      mAP50  mAP50-95)     Mask(P          R      mAP50  mAP50-95): 100%|██████████| 4/4 [00:01<00:00,  2.51it/s]"
     ]
    },
    {
     "name": "stdout",
     "output_type": "stream",
     "text": [
      "                   all        123        126      0.952       0.96      0.977      0.757      0.952       0.96      0.977      0.724\n"
     ]
    },
    {
     "name": "stderr",
     "output_type": "stream",
     "text": [
      "\n"
     ]
    },
    {
     "name": "stdout",
     "output_type": "stream",
     "text": [
      "\n",
      "      Epoch    GPU_mem   box_loss   seg_loss   cls_loss   dfl_loss  Instances       Size\n"
     ]
    },
    {
     "name": "stderr",
     "output_type": "stream",
     "text": [
      "      17/20      2.15G     0.7602      1.188     0.5282      1.009          7        416: 100%|██████████| 37/37 [00:11<00:00,  3.11it/s]\n",
      "                 Class     Images  Instances      Box(P          R      mAP50  mAP50-95)     Mask(P          R      mAP50  mAP50-95): 100%|██████████| 4/4 [00:01<00:00,  2.47it/s]"
     ]
    },
    {
     "name": "stdout",
     "output_type": "stream",
     "text": [
      "                   all        123        126      0.954      0.984      0.986      0.767      0.954      0.984      0.988      0.748\n"
     ]
    },
    {
     "name": "stderr",
     "output_type": "stream",
     "text": [
      "\n"
     ]
    },
    {
     "name": "stdout",
     "output_type": "stream",
     "text": [
      "\n",
      "      Epoch    GPU_mem   box_loss   seg_loss   cls_loss   dfl_loss  Instances       Size\n"
     ]
    },
    {
     "name": "stderr",
     "output_type": "stream",
     "text": [
      "      18/20      2.14G     0.7244       1.15     0.5007     0.9981          7        416: 100%|██████████| 37/37 [00:11<00:00,  3.18it/s]\n",
      "                 Class     Images  Instances      Box(P          R      mAP50  mAP50-95)     Mask(P          R      mAP50  mAP50-95): 100%|██████████| 4/4 [00:01<00:00,  2.36it/s]"
     ]
    },
    {
     "name": "stdout",
     "output_type": "stream",
     "text": [
      "                   all        123        126      0.989      0.984      0.993      0.768      0.989      0.984      0.993      0.753\n"
     ]
    },
    {
     "name": "stderr",
     "output_type": "stream",
     "text": [
      "\n"
     ]
    },
    {
     "name": "stdout",
     "output_type": "stream",
     "text": [
      "\n",
      "      Epoch    GPU_mem   box_loss   seg_loss   cls_loss   dfl_loss  Instances       Size\n"
     ]
    },
    {
     "name": "stderr",
     "output_type": "stream",
     "text": [
      "      19/20      2.15G     0.7084      1.136     0.4782     0.9885          7        416: 100%|██████████| 37/37 [00:11<00:00,  3.12it/s]\n",
      "                 Class     Images  Instances      Box(P          R      mAP50  mAP50-95)     Mask(P          R      mAP50  mAP50-95): 100%|██████████| 4/4 [00:01<00:00,  2.48it/s]"
     ]
    },
    {
     "name": "stdout",
     "output_type": "stream",
     "text": [
      "                   all        123        126      0.969      0.977       0.99      0.785      0.969      0.977       0.99      0.763\n"
     ]
    },
    {
     "name": "stderr",
     "output_type": "stream",
     "text": [
      "\n"
     ]
    },
    {
     "name": "stdout",
     "output_type": "stream",
     "text": [
      "\n",
      "      Epoch    GPU_mem   box_loss   seg_loss   cls_loss   dfl_loss  Instances       Size\n"
     ]
    },
    {
     "name": "stderr",
     "output_type": "stream",
     "text": [
      "      20/20      2.15G     0.7164      1.133     0.4536     0.9869          7        416: 100%|██████████| 37/37 [00:11<00:00,  3.16it/s]\n",
      "                 Class     Images  Instances      Box(P          R      mAP50  mAP50-95)     Mask(P          R      mAP50  mAP50-95): 100%|██████████| 4/4 [00:01<00:00,  2.26it/s]"
     ]
    },
    {
     "name": "stdout",
     "output_type": "stream",
     "text": [
      "                   all        123        126      0.983      0.976      0.992      0.792      0.983      0.976      0.992      0.764\n"
     ]
    },
    {
     "name": "stderr",
     "output_type": "stream",
     "text": [
      "\n"
     ]
    },
    {
     "name": "stdout",
     "output_type": "stream",
     "text": [
      "\n",
      "20 epochs completed in 0.087 hours.\n",
      "Optimizer stripped from runs\\segment\\train\\weights\\last.pt, 6.0MB\n",
      "Optimizer stripped from runs\\segment\\train\\weights\\best.pt, 6.0MB\n",
      "\n",
      "Validating runs\\segment\\train\\weights\\best.pt...\n",
      "Ultralytics 8.3.31  Python-3.10.10 torch-2.5.1+cu124 CUDA:0 (NVIDIA GeForce GTX 1650, 4096MiB)\n",
      "YOLO11n-seg summary (fused): 265 layers, 2,834,763 parameters, 0 gradients, 10.2 GFLOPs\n"
     ]
    },
    {
     "name": "stderr",
     "output_type": "stream",
     "text": [
      "                 Class     Images  Instances      Box(P          R      mAP50  mAP50-95)     Mask(P          R      mAP50  mAP50-95): 100%|██████████| 4/4 [00:02<00:00,  1.62it/s]\n"
     ]
    },
    {
     "name": "stdout",
     "output_type": "stream",
     "text": [
      "                   all        123        126      0.983      0.976      0.992      0.792      0.983      0.976      0.992      0.764\n",
      "Speed: 0.3ms preprocess, 4.3ms inference, 0.0ms loss, 2.5ms postprocess per image\n",
      "Results saved to \u001b[1mruns\\segment\\train\u001b[0m\n"
     ]
    }
   ],
   "source": [
    "from ultralytics import YOLO\n",
    "\n",
    "# Load a pretrained YOLO11 segment model\n",
    "model = YOLO(\"yolo11n-seg.pt\")\n",
    "\n",
    "# Train the model\n",
    "results = model.train(data=r\"C:\\Users\\viren\\Portfolio\\Segmentation\\data\\data.yaml\", epochs=20, imgsz=400, device = 'cuda', amp=False)"
   ]
  },
  {
   "cell_type": "code",
   "execution_count": 3,
   "metadata": {},
   "outputs": [],
   "source": [
    "trained_model = YOLO('runs/segment/train/weights/best.pt')"
   ]
  },
  {
   "cell_type": "code",
   "execution_count": 33,
   "metadata": {},
   "outputs": [
    {
     "name": "stdout",
     "output_type": "stream",
     "text": [
      "\n",
      "image 1/184 c:\\Users\\viren\\Portfolio\\Object Detection\\data\\test\\images\\-ukmjhng-Copy_jpeg.rf.5f7bf12b80717e84734348da0fb72b6d.jpg: 640x640 (no detections), 134.3ms\n",
      "image 2/184 c:\\Users\\viren\\Portfolio\\Object Detection\\data\\test\\images\\014c84697e_jpg.rf.6bf7cb929a328e42f7c241dfa5ef22ed.jpg: 640x640 1 virat_kohli, 58.5ms\n",
      "image 3/184 c:\\Users\\viren\\Portfolio\\Object Detection\\data\\test\\images\\0631ccf6f2_jpg.rf.a1ef4977e599e21b12536c41fbedec88.jpg: 640x640 1 virat_kohli, 58.0ms\n",
      "image 4/184 c:\\Users\\viren\\Portfolio\\Object Detection\\data\\test\\images\\0acb08b02f_jpg.rf.3f04725aea6c1025ab65328de7ce5cc6.jpg: 640x640 (no detections), 56.6ms\n",
      "image 5/184 c:\\Users\\viren\\Portfolio\\Object Detection\\data\\test\\images\\0b92f93882_jpg.rf.095ddd50ad0f87d91126176b436613ce.jpg: 640x640 (no detections), 57.5ms\n",
      "image 6/184 c:\\Users\\viren\\Portfolio\\Object Detection\\data\\test\\images\\0d3b5bc33e_jpg.rf.1d0587d1c17d93b3aff161eb1242a809.jpg: 640x640 (no detections), 54.0ms\n",
      "image 7/184 c:\\Users\\viren\\Portfolio\\Object Detection\\data\\test\\images\\14a46d3206_jpg.rf.cdc55724088404cb2bd39f3ecb182c91.jpg: 640x640 (no detections), 57.0ms\n",
      "image 8/184 c:\\Users\\viren\\Portfolio\\Object Detection\\data\\test\\images\\16a2bd47a2_jpg.rf.67e465cc89de943b1d51eec41c1e4868.jpg: 640x640 (no detections), 53.5ms\n",
      "image 9/184 c:\\Users\\viren\\Portfolio\\Object Detection\\data\\test\\images\\1ae0a5e035_jpg.rf.d88778ed0baaa0db05b11ebaa2c290cb.jpg: 640x640 (no detections), 57.5ms\n",
      "image 10/184 c:\\Users\\viren\\Portfolio\\Object Detection\\data\\test\\images\\1f968258a8_jpg.rf.49c41560a9908191ea6565272891f24a.jpg: 640x640 (no detections), 55.0ms\n",
      "image 11/184 c:\\Users\\viren\\Portfolio\\Object Detection\\data\\test\\images\\269612863d_jpg.rf.cf2b0ae6690ab8bc1f0ca9926edca7ce.jpg: 640x640 (no detections), 54.9ms\n",
      "image 12/184 c:\\Users\\viren\\Portfolio\\Object Detection\\data\\test\\images\\2a623ccda1_jpg.rf.2f8f26a5995d93bcb197ba9f4200385c.jpg: 640x640 1 virat_kohli, 61.6ms\n",
      "image 13/184 c:\\Users\\viren\\Portfolio\\Object Detection\\data\\test\\images\\2f7f366aa0_jpg.rf.c5714704cc23bdcf5427c6b99a2923b8.jpg: 640x640 (no detections), 61.5ms\n",
      "image 14/184 c:\\Users\\viren\\Portfolio\\Object Detection\\data\\test\\images\\32b88ddfb5_jpg.rf.e6b3af91693007c55b738aa230e4f470.jpg: 640x640 (no detections), 68.6ms\n",
      "image 15/184 c:\\Users\\viren\\Portfolio\\Object Detection\\data\\test\\images\\32fab304a3_jpg.rf.ecf8164ec2e963415999fed3e6023cc5.jpg: 640x640 (no detections), 99.8ms\n",
      "image 16/184 c:\\Users\\viren\\Portfolio\\Object Detection\\data\\test\\images\\3a7496ab84_jpg.rf.3e33e1cb252634a39e0b97d17a083453.jpg: 640x640 (no detections), 71.1ms\n",
      "image 17/184 c:\\Users\\viren\\Portfolio\\Object Detection\\data\\test\\images\\3a96fbc460_jpg.rf.08f600d3fd9853f634208614c6e44a72.jpg: 640x640 (no detections), 63.0ms\n",
      "image 18/184 c:\\Users\\viren\\Portfolio\\Object Detection\\data\\test\\images\\3d685ffe3b_jpg.rf.52eee6f33f1cda5c9627d27a2a98d319.jpg: 640x640 (no detections), 61.9ms\n",
      "image 19/184 c:\\Users\\viren\\Portfolio\\Object Detection\\data\\test\\images\\496515fa9f_jpg.rf.61fe117dc58bceeae3a4f9827c1c679d.jpg: 640x640 1 virat_kohli, 61.2ms\n",
      "image 20/184 c:\\Users\\viren\\Portfolio\\Object Detection\\data\\test\\images\\49927198f8_jpg.rf.74934f9b9d5c32cc6410628e6aa0493e.jpg: 640x640 (no detections), 63.7ms\n",
      "image 21/184 c:\\Users\\viren\\Portfolio\\Object Detection\\data\\test\\images\\4c57d303f0_jpg.rf.f5c494c170650e7becb78da7c8419830.jpg: 640x640 1 rohit_sharma, 64.5ms\n",
      "image 22/184 c:\\Users\\viren\\Portfolio\\Object Detection\\data\\test\\images\\5038ffd8b1_jpg.rf.390bddf778363523b9ce954a0f0cd788.jpg: 640x640 (no detections), 67.9ms\n",
      "image 23/184 c:\\Users\\viren\\Portfolio\\Object Detection\\data\\test\\images\\51f67e6a92_jpg.rf.f47ad2f5601e1d5adf33b9f166cf005b.jpg: 640x640 (no detections), 58.8ms\n",
      "image 24/184 c:\\Users\\viren\\Portfolio\\Object Detection\\data\\test\\images\\5bd81256f7_jpg.rf.7180aa52e5c3e643783e17551f50f7ff.jpg: 640x640 (no detections), 59.9ms\n",
      "image 25/184 c:\\Users\\viren\\Portfolio\\Object Detection\\data\\test\\images\\5f83ca00cc_jpg.rf.e415768603cab9a3ce098ca02644b13a.jpg: 640x640 (no detections), 62.7ms\n",
      "image 26/184 c:\\Users\\viren\\Portfolio\\Object Detection\\data\\test\\images\\60627ea0c0_jpg.rf.13e6515a10bf4533d5327fab6d0efb2a.jpg: 640x640 (no detections), 58.2ms\n",
      "image 27/184 c:\\Users\\viren\\Portfolio\\Object Detection\\data\\test\\images\\62dcef36cd_jpg.rf.073f764ce99d3378cb9c16efe01d5cb4.jpg: 640x640 (no detections), 60.2ms\n",
      "image 28/184 c:\\Users\\viren\\Portfolio\\Object Detection\\data\\test\\images\\63e36a9807_jpg.rf.2ebbfb9f93ead1f611a16506834a77fc.jpg: 640x640 1 suryakumar_yadav, 58.2ms\n",
      "image 29/184 c:\\Users\\viren\\Portfolio\\Object Detection\\data\\test\\images\\7620230e88_jpg.rf.457a98d069f15fe5a81fc579f27372ea.jpg: 640x640 1 virat_kohli, 60.3ms\n",
      "image 30/184 c:\\Users\\viren\\Portfolio\\Object Detection\\data\\test\\images\\76ed0691ae_jpg.rf.d75ca75ca98fee7be27d5d81de1567ce.jpg: 640x640 (no detections), 56.9ms\n",
      "image 31/184 c:\\Users\\viren\\Portfolio\\Object Detection\\data\\test\\images\\789c7198b9_jpg.rf.b708ca516d6796b8cf29044e16f40f06.jpg: 640x640 1 virat_kohli, 58.4ms\n",
      "image 32/184 c:\\Users\\viren\\Portfolio\\Object Detection\\data\\test\\images\\790d9187af_jpg.rf.3b4ecb64bf19a6ffc901822274a6452d.jpg: 640x640 (no detections), 57.7ms\n",
      "image 33/184 c:\\Users\\viren\\Portfolio\\Object Detection\\data\\test\\images\\7a6df31c12_jpg.rf.315d31b694d6e93ef7583a0d8f84ff77.jpg: 640x640 1 virat_kohli, 58.6ms\n",
      "image 34/184 c:\\Users\\viren\\Portfolio\\Object Detection\\data\\test\\images\\7b6eae8afe_jpg.rf.0d04f86ee303e457359658d426477dbc.jpg: 640x640 (no detections), 55.4ms\n",
      "image 35/184 c:\\Users\\viren\\Portfolio\\Object Detection\\data\\test\\images\\7dace6eee7_jpg.rf.f6e4f3a780e6fd45f83a489e5be8f5b3.jpg: 640x640 (no detections), 55.1ms\n",
      "image 36/184 c:\\Users\\viren\\Portfolio\\Object Detection\\data\\test\\images\\7ff674d085_jpg.rf.df975cb29555dffb8fa6aac22763881e.jpg: 640x640 (no detections), 55.5ms\n",
      "image 37/184 c:\\Users\\viren\\Portfolio\\Object Detection\\data\\test\\images\\85bed62aac_jpg.rf.881592891376e277393a57cd7a554338.jpg: 640x640 (no detections), 56.0ms\n",
      "image 38/184 c:\\Users\\viren\\Portfolio\\Object Detection\\data\\test\\images\\871c6e865f_jpg.rf.c63aa7d2437d39138e87e58df7578e49.jpg: 640x640 (no detections), 53.7ms\n",
      "image 39/184 c:\\Users\\viren\\Portfolio\\Object Detection\\data\\test\\images\\87dd613995_jpg.rf.8d4459d0ca961e02b37134c4d4f78f8c.jpg: 640x640 1 virat_kohli, 56.1ms\n",
      "image 40/184 c:\\Users\\viren\\Portfolio\\Object Detection\\data\\test\\images\\8bb820cdfc_jpg.rf.20fb3502dc95816fbcd46017f99fde64.jpg: 640x640 (no detections), 58.5ms\n",
      "image 41/184 c:\\Users\\viren\\Portfolio\\Object Detection\\data\\test\\images\\8uuhkj_jpeg.rf.23eb634d3b85a2237b5a1ec3c7b8d89c.jpg: 640x640 1 stump, 56.2ms\n",
      "image 42/184 c:\\Users\\viren\\Portfolio\\Object Detection\\data\\test\\images\\9249adb803_jpg.rf.ce0ef66df7dc6a559ffe328039c5cdf0.jpg: 640x640 (no detections), 56.5ms\n",
      "image 43/184 c:\\Users\\viren\\Portfolio\\Object Detection\\data\\test\\images\\92b38329e2_jpg.rf.fc67d3d0a67a6403344a89b694b580d5.jpg: 640x640 (no detections), 61.5ms\n",
      "image 44/184 c:\\Users\\viren\\Portfolio\\Object Detection\\data\\test\\images\\936d4c7fe8_jpg.rf.e78bb44766917c6457c3656734293d5b.jpg: 640x640 (no detections), 60.9ms\n",
      "image 45/184 c:\\Users\\viren\\Portfolio\\Object Detection\\data\\test\\images\\96128057da_jpg.rf.c5eb51da5ac69ef65551c41adbccf0f9.jpg: 640x640 (no detections), 58.6ms\n",
      "image 46/184 c:\\Users\\viren\\Portfolio\\Object Detection\\data\\test\\images\\9d7aac4456_jpg.rf.65c92cadc865a2d051dada6b2552decd.jpg: 640x640 (no detections), 60.9ms\n",
      "image 47/184 c:\\Users\\viren\\Portfolio\\Object Detection\\data\\test\\images\\9d82df46d8_jpg.rf.2a29312cac7f19181cd1ed09d7d82aae.jpg: 640x640 (no detections), 59.2ms\n",
      "image 48/184 c:\\Users\\viren\\Portfolio\\Object Detection\\data\\test\\images\\b2839fe321_jpg.rf.ec1d75de38fef01f066a98520fc21c80.jpg: 640x640 (no detections), 57.7ms\n",
      "image 49/184 c:\\Users\\viren\\Portfolio\\Object Detection\\data\\test\\images\\b94188512a_jpg.rf.2f56a57eb005a9774dec1f2ff6bb2a3f.jpg: 640x640 (no detections), 54.9ms\n",
      "image 50/184 c:\\Users\\viren\\Portfolio\\Object Detection\\data\\test\\images\\ball-12-Copy_jpg.rf.2b31888a8299cc017330a5d10e683677.jpg: 640x640 (no detections), 87.2ms\n",
      "image 51/184 c:\\Users\\viren\\Portfolio\\Object Detection\\data\\test\\images\\ball-17-Copy_jpg.rf.76f1018fe9849872ec1bfc4010a89f35.jpg: 640x640 1 ball, 56.9ms\n",
      "image 52/184 c:\\Users\\viren\\Portfolio\\Object Detection\\data\\test\\images\\ball-2-Copy_jpg.rf.14463ac82dbdfe55772ca74420a4eccb.jpg: 640x640 1 ball, 57.0ms\n",
      "image 53/184 c:\\Users\\viren\\Portfolio\\Object Detection\\data\\test\\images\\ball-7-Copy_jpg.rf.c2e6d1027e16316bd29e6f4e82edcd6f.jpg: 640x640 1 ball, 57.1ms\n",
      "image 54/184 c:\\Users\\viren\\Portfolio\\Object Detection\\data\\test\\images\\bat-124-_jpg.rf.d0ed3612460dfcea5b4abe115b6a87ab.jpg: 640x640 (no detections), 56.6ms\n",
      "image 55/184 c:\\Users\\viren\\Portfolio\\Object Detection\\data\\test\\images\\bat-131-_jpg.rf.30075864197c8ccfac66a790c42bf61b.jpg: 640x640 1 bat, 59.2ms\n",
      "image 56/184 c:\\Users\\viren\\Portfolio\\Object Detection\\data\\test\\images\\bat-146-_jpg.rf.0234af4ffe2a6c67ee48097d90a4674d.jpg: 640x640 (no detections), 55.0ms\n",
      "image 57/184 c:\\Users\\viren\\Portfolio\\Object Detection\\data\\test\\images\\bat-171-_jpg.rf.8eb9fe3a04ca32334962c9427cbd203e.jpg: 640x640 (no detections), 56.6ms\n",
      "image 58/184 c:\\Users\\viren\\Portfolio\\Object Detection\\data\\test\\images\\bat-217-_jpg.rf.7acbdcc5043c3ee1f7db917da5044a14.jpg: 640x640 (no detections), 55.7ms\n",
      "image 59/184 c:\\Users\\viren\\Portfolio\\Object Detection\\data\\test\\images\\bat-243-_jpg.rf.f18c0a64660711f3ad12e49fbb42e938.jpg: 640x640 1 stump, 58.2ms\n",
      "image 60/184 c:\\Users\\viren\\Portfolio\\Object Detection\\data\\test\\images\\bat-250-_jpg.rf.22c6999a2e8ee2ce4a1e9c49e4ff20d0.jpg: 640x640 1 bat, 55.7ms\n",
      "image 61/184 c:\\Users\\viren\\Portfolio\\Object Detection\\data\\test\\images\\bat-257-_jpg.rf.495f31051130fc01d1b95940075b8212.jpg: 640x640 (no detections), 55.4ms\n",
      "image 62/184 c:\\Users\\viren\\Portfolio\\Object Detection\\data\\test\\images\\bbbnm_jpeg.rf.2e3ab456d3f4569bd3b730cfd62c9685.jpg: 640x640 (no detections), 55.2ms\n",
      "image 63/184 c:\\Users\\viren\\Portfolio\\Object Detection\\data\\test\\images\\bbjciur_jpeg.rf.4712db4b408e357365a0d9ab6917de8c.jpg: 640x640 (no detections), 57.5ms\n",
      "image 64/184 c:\\Users\\viren\\Portfolio\\Object Detection\\data\\test\\images\\bf64d6613a_jpg.rf.0f740abf55aabc337f570cc0dc983e80.jpg: 640x640 (no detections), 54.6ms\n",
      "image 65/184 c:\\Users\\viren\\Portfolio\\Object Detection\\data\\test\\images\\bhbfvv_jpeg.rf.a6471607de542f9ef0542bb81382d6fc.jpg: 640x640 (no detections), 59.0ms\n",
      "image 66/184 c:\\Users\\viren\\Portfolio\\Object Detection\\data\\test\\images\\bhdcg_jpeg.rf.fd15ddfcb311be2d8ac2884c2168acb1.jpg: 640x640 (no detections), 63.8ms\n",
      "image 67/184 c:\\Users\\viren\\Portfolio\\Object Detection\\data\\test\\images\\bjgtito_jpeg.rf.7d834f3c26a54d23ffb8c8c15d5d8330.jpg: 640x640 (no detections), 54.6ms\n",
      "image 68/184 c:\\Users\\viren\\Portfolio\\Object Detection\\data\\test\\images\\bjrty-Copy_jpeg.rf.b755aa15284a1ddbb1fc21e4717f3513.jpg: 640x640 1 virat_kohli, 57.4ms\n",
      "image 69/184 c:\\Users\\viren\\Portfolio\\Object Detection\\data\\test\\images\\bnhirpc_jpeg.rf.03f5cd4c57810fd627f7a6454d147a5e.jpg: 640x640 (no detections), 55.6ms\n",
      "image 70/184 c:\\Users\\viren\\Portfolio\\Object Detection\\data\\test\\images\\byfth_jpeg.rf.470d0245779ac73b5f517acb82160449.jpg: 640x640 (no detections), 58.5ms\n",
      "image 71/184 c:\\Users\\viren\\Portfolio\\Object Detection\\data\\test\\images\\c2bd81e558_jpg.rf.a0ecfc3ab32b25b0bf87740d1fe870c2.jpg: 640x640 (no detections), 58.7ms\n",
      "image 72/184 c:\\Users\\viren\\Portfolio\\Object Detection\\data\\test\\images\\cxerf4_jpeg.rf.bb7750bb31b89985a14dded99609b436.jpg: 640x640 (no detections), 61.0ms\n",
      "image 73/184 c:\\Users\\viren\\Portfolio\\Object Detection\\data\\test\\images\\d1be66947c_jpg.rf.af9c2c7f9d3b990ff5d5c1be9fd2184c.jpg: 640x640 1 virat_kohli, 61.0ms\n",
      "image 74/184 c:\\Users\\viren\\Portfolio\\Object Detection\\data\\test\\images\\d3bbfd0e17_jpg.rf.3d318bffc94e7ee8037340d4ce5becdb.jpg: 640x640 1 virat_kohli, 56.3ms\n",
      "image 75/184 c:\\Users\\viren\\Portfolio\\Object Detection\\data\\test\\images\\d6a094c1b7_jpg.rf.4c586c89fb9d9704b5ab0af54c8a9553.jpg: 640x640 (no detections), 56.5ms\n",
      "image 76/184 c:\\Users\\viren\\Portfolio\\Object Detection\\data\\test\\images\\d9b45dd2e5_jpg.rf.96d2f44e0c503b0636ce792d16253bab.jpg: 640x640 (no detections), 57.9ms\n",
      "image 77/184 c:\\Users\\viren\\Portfolio\\Object Detection\\data\\test\\images\\d9e8c10995_jpg.rf.a5b9d76edbd558f17fb3f91010a0a80e.jpg: 640x640 (no detections), 61.5ms\n",
      "image 78/184 c:\\Users\\viren\\Portfolio\\Object Detection\\data\\test\\images\\dc4673eea2_jpg.rf.55e958bc988c277859ba6e1c525f8c4a.jpg: 640x640 (no detections), 59.9ms\n",
      "image 79/184 c:\\Users\\viren\\Portfolio\\Object Detection\\data\\test\\images\\dydy-Copy_jpeg.rf.0b42d09dee0f8d134e13feb567dec9eb.jpg: 640x640 (no detections), 56.9ms\n",
      "image 80/184 c:\\Users\\viren\\Portfolio\\Object Detection\\data\\test\\images\\e439786c18_jpg.rf.4ff563a59ae47e7b678fa3187f31accb.jpg: 640x640 (no detections), 59.5ms\n",
      "image 81/184 c:\\Users\\viren\\Portfolio\\Object Detection\\data\\test\\images\\e7374327bb_jpg.rf.fd903be08f39faca0167bb07934a7eb6.jpg: 640x640 1 virat_kohli, 57.8ms\n",
      "image 82/184 c:\\Users\\viren\\Portfolio\\Object Detection\\data\\test\\images\\ebd5977494_jpg.rf.f8b1a3bd6b6f1acfda8c0b394c11c65a.jpg: 640x640 (no detections), 62.1ms\n",
      "image 83/184 c:\\Users\\viren\\Portfolio\\Object Detection\\data\\test\\images\\eddddfre_jpeg.rf.b1326242245d295424e6a0c25c062eaf.jpg: 640x640 (no detections), 59.1ms\n",
      "image 84/184 c:\\Users\\viren\\Portfolio\\Object Detection\\data\\test\\images\\efc7b426d9_jpg.rf.8615324dfafe43adb2fc570b54cf46af.jpg: 640x640 (no detections), 57.3ms\n",
      "image 85/184 c:\\Users\\viren\\Portfolio\\Object Detection\\data\\test\\images\\egh65ej_jpeg.rf.fec42c5c4b919caa15718ea584134d33.jpg: 640x640 (no detections), 57.0ms\n",
      "image 86/184 c:\\Users\\viren\\Portfolio\\Object Detection\\data\\test\\images\\eth65jhrgt_jpeg.rf.62d00f9ec7e3f85b124ecd44066d6e8e.jpg: 640x640 (no detections), 59.9ms\n",
      "image 87/184 c:\\Users\\viren\\Portfolio\\Object Detection\\data\\test\\images\\f615f53cbe_jpg.rf.079f63b95e1e753f602c1864963461e8.jpg: 640x640 (no detections), 61.5ms\n",
      "image 88/184 c:\\Users\\viren\\Portfolio\\Object Detection\\data\\test\\images\\fd7ab6530d_jpg.rf.d1a3d3b6b00d960df9f3ebd0c061878a.jpg: 640x640 (no detections), 58.7ms\n",
      "image 89/184 c:\\Users\\viren\\Portfolio\\Object Detection\\data\\test\\images\\fdd5406b85_jpg.rf.c4cd0eae00b977b3b56456831223e85c.jpg: 640x640 1 virat_kohli, 59.8ms\n",
      "image 90/184 c:\\Users\\viren\\Portfolio\\Object Detection\\data\\test\\images\\ffjgurr_jpeg.rf.3817e67a9b705805306f63a6103b20d6.jpg: 640x640 (no detections), 56.6ms\n",
      "image 91/184 c:\\Users\\viren\\Portfolio\\Object Detection\\data\\test\\images\\ffkum_jpeg.rf.bcbed5bcf4cbd16e5a3b252ddf139747.jpg: 640x640 (no detections), 55.9ms\n",
      "image 92/184 c:\\Users\\viren\\Portfolio\\Object Detection\\data\\test\\images\\fgjhkjn_jpeg.rf.5317c8022c5a3c4f74a6c382de6b295c.jpg: 640x640 1 virat_kohli, 57.8ms\n",
      "image 93/184 c:\\Users\\viren\\Portfolio\\Object Detection\\data\\test\\images\\fgvnb_jpeg.rf.39b87038dc0f29e53cf133c357fa3924.jpg: 640x640 (no detections), 57.3ms\n",
      "image 94/184 c:\\Users\\viren\\Portfolio\\Object Detection\\data\\test\\images\\fhgffh_jpeg.rf.be5dce7d35b33925897f2aec62cda1df.jpg: 640x640 (no detections), 58.8ms\n",
      "image 95/184 c:\\Users\\viren\\Portfolio\\Object Detection\\data\\test\\images\\fr6rf_jpeg.rf.0a8122ea89ed030991f9e14230856349.jpg: 640x640 (no detections), 54.7ms\n",
      "image 96/184 c:\\Users\\viren\\Portfolio\\Object Detection\\data\\test\\images\\frtukl_jpeg.rf.dedca6955bcf10de4da3aee3db51da1e.jpg: 640x640 (no detections), 57.0ms\n",
      "image 97/184 c:\\Users\\viren\\Portfolio\\Object Detection\\data\\test\\images\\ftfjh-Copy_jpeg.rf.780bc7c790fe993339bc3a26d674efae.jpg: 640x640 (no detections), 56.8ms\n",
      "image 98/184 c:\\Users\\viren\\Portfolio\\Object Detection\\data\\test\\images\\ftghjb_jpeg.rf.892417fb68df6a509a4b6814d5655ac8.jpg: 640x640 (no detections), 57.9ms\n",
      "image 99/184 c:\\Users\\viren\\Portfolio\\Object Detection\\data\\test\\images\\fthgfjg_jpeg.rf.a4aed62c76b53282322c18848523ffc3.jpg: 640x640 (no detections), 63.5ms\n",
      "image 100/184 c:\\Users\\viren\\Portfolio\\Object Detection\\data\\test\\images\\fufgjhjhg_jpeg.rf.9f3069c1d31828f6b79e4a9c0d2d4318.jpg: 640x640 (no detections), 67.2ms\n",
      "image 101/184 c:\\Users\\viren\\Portfolio\\Object Detection\\data\\test\\images\\fuyfj_jpeg.rf.183ad8d39b976523a9cabfe0b9a99111.jpg: 640x640 (no detections), 60.7ms\n",
      "image 102/184 c:\\Users\\viren\\Portfolio\\Object Detection\\data\\test\\images\\fuyjhnv_jpeg.rf.513cefb28e7e41bcc94192df8cc3afb1.jpg: 640x640 1 kl_rahul, 1 virat_kohli, 59.9ms\n",
      "image 103/184 c:\\Users\\viren\\Portfolio\\Object Detection\\data\\test\\images\\fyjhvb_jpeg.rf.419e0a37abf851cd05b0929b65589655.jpg: 640x640 (no detections), 61.8ms\n",
      "image 104/184 c:\\Users\\viren\\Portfolio\\Object Detection\\data\\test\\images\\ggrgv_jpeg.rf.bdd155d5df9c212de1ba446a7a4273b7.jpg: 640x640 1 virat_kohli, 56.6ms\n",
      "image 105/184 c:\\Users\\viren\\Portfolio\\Object Detection\\data\\test\\images\\ghknl_jpeg.rf.c6d9c40615f5ba81b247a511f7ceba79.jpg: 640x640 (no detections), 56.8ms\n",
      "image 106/184 c:\\Users\\viren\\Portfolio\\Object Detection\\data\\test\\images\\giyiy-Copy_jpeg.rf.ab33b5c8e9e864402966638857ff4cd8.jpg: 640x640 (no detections), 58.3ms\n",
      "image 107/184 c:\\Users\\viren\\Portfolio\\Object Detection\\data\\test\\images\\gjtuu_jpeg.rf.95cf32404791d91f4e38daf3c8cc2d5e.jpg: 640x640 1 stump, 56.8ms\n",
      "image 108/184 c:\\Users\\viren\\Portfolio\\Object Detection\\data\\test\\images\\gjxjg_jpeg.rf.a75750ceaa15b7e857c9cc1e4f626b5b.jpg: 640x640 (no detections), 57.2ms\n",
      "image 109/184 c:\\Users\\viren\\Portfolio\\Object Detection\\data\\test\\images\\gncnchg_jpeg.rf.be7117b2108a3c03ca1f6ab874de6414.jpg: 640x640 (no detections), 57.2ms\n",
      "image 110/184 c:\\Users\\viren\\Portfolio\\Object Detection\\data\\test\\images\\guggiu_jpeg.rf.94b6528e5d838eae3c4a0756cfc88c1a.jpg: 640x640 (no detections), 60.7ms\n",
      "image 111/184 c:\\Users\\viren\\Portfolio\\Object Detection\\data\\test\\images\\gvrvr_jpeg.rf.e8f49a34078e7436c72d48591c2f0d02.jpg: 640x640 (no detections), 57.1ms\n",
      "image 112/184 c:\\Users\\viren\\Portfolio\\Object Detection\\data\\test\\images\\hgfd_jpeg.rf.bcd5526dd37a701a0f2042fc5f4d63b5.jpg: 640x640 (no detections), 55.8ms\n",
      "image 113/184 c:\\Users\\viren\\Portfolio\\Object Detection\\data\\test\\images\\hjguy-Copy_jpeg.rf.6480b224c6a3596496eb22ad8c6655e8.jpg: 640x640 (no detections), 64.2ms\n",
      "image 114/184 c:\\Users\\viren\\Portfolio\\Object Detection\\data\\test\\images\\hjvgjh_jpeg.rf.53d9af9762dd6a97b2ccef28e2c45fee.jpg: 640x640 (no detections), 56.9ms\n",
      "image 115/184 c:\\Users\\viren\\Portfolio\\Object Detection\\data\\test\\images\\hyyuj_jpeg.rf.f11fabb28b41de269184ca435d6f9ff4.jpg: 640x640 (no detections), 57.1ms\n",
      "image 116/184 c:\\Users\\viren\\Portfolio\\Object Detection\\data\\test\\images\\igkiyg_jpeg.rf.2f659a08a5bac67610032a341e54603c.jpg: 640x640 (no detections), 55.4ms\n",
      "image 117/184 c:\\Users\\viren\\Portfolio\\Object Detection\\data\\test\\images\\images_jpeg.rf.fbb7dd62debda97e60757659395292d2.jpg: 640x640 1 virat_kohli, 57.1ms\n",
      "image 118/184 c:\\Users\\viren\\Portfolio\\Object Detection\\data\\test\\images\\iopo_jpeg.rf.98d4c1865f27e6aaff35ef8793e43364.jpg: 640x640 (no detections), 57.3ms\n",
      "image 119/184 c:\\Users\\viren\\Portfolio\\Object Detection\\data\\test\\images\\jghbnm_jpeg.rf.d1f3e26faedaaccaec791678b06ace0b.jpg: 640x640 (no detections), 57.0ms\n",
      "image 120/184 c:\\Users\\viren\\Portfolio\\Object Detection\\data\\test\\images\\jghh_jpeg.rf.c364d72d6a898945974c0af6a63fa3dd.jpg: 640x640 (no detections), 58.7ms\n",
      "image 121/184 c:\\Users\\viren\\Portfolio\\Object Detection\\data\\test\\images\\jh-fjh_jpeg.rf.ef310223d416ab6bc98424bcb03e0013.jpg: 640x640 (no detections), 61.2ms\n",
      "image 122/184 c:\\Users\\viren\\Portfolio\\Object Detection\\data\\test\\images\\jhful_jpeg.rf.a34b78df1e2092a50a62f420fb199799.jpg: 640x640 (no detections), 64.0ms\n",
      "image 123/184 c:\\Users\\viren\\Portfolio\\Object Detection\\data\\test\\images\\joggggg_jpeg.rf.874ccc6e3d8ef41aee4a4c46b65645dc.jpg: 640x640 (no detections), 59.4ms\n",
      "image 124/184 c:\\Users\\viren\\Portfolio\\Object Detection\\data\\test\\images\\jyfgvn_jpeg.rf.4c16b57bc913ff273c0d5e71749dfa81.jpg: 640x640 3 stumps, 57.2ms\n",
      "image 125/184 c:\\Users\\viren\\Portfolio\\Object Detection\\data\\test\\images\\kfktft_jpeg.rf.51816766cab71397707dafe49e792779.jpg: 640x640 (no detections), 57.1ms\n",
      "image 126/184 c:\\Users\\viren\\Portfolio\\Object Detection\\data\\test\\images\\kiuigk_jpeg.rf.c365f14d91af9088f629d0cd946a20de.jpg: 640x640 (no detections), 57.5ms\n",
      "image 127/184 c:\\Users\\viren\\Portfolio\\Object Detection\\data\\test\\images\\kiuyjn_jpeg.rf.2d1975ce240347109fb8708a3aff977a.jpg: 640x640 (no detections), 59.2ms\n",
      "image 128/184 c:\\Users\\viren\\Portfolio\\Object Detection\\data\\test\\images\\kjhgb-Copy_jpeg.rf.935271a9437f9de62f8874b5fe1a2104.jpg: 640x640 (no detections), 54.6ms\n",
      "image 129/184 c:\\Users\\viren\\Portfolio\\Object Detection\\data\\test\\images\\kuhjlk_jpeg.rf.7ee33eb6018304f1bcd37697854ecc90.jpg: 640x640 (no detections), 56.2ms\n",
      "image 130/184 c:\\Users\\viren\\Portfolio\\Object Detection\\data\\test\\images\\lkjjhg_jpeg.rf.d4c5e22c41ef39604b661673c6d91084.jpg: 640x640 (no detections), 92.2ms\n",
      "image 131/184 c:\\Users\\viren\\Portfolio\\Object Detection\\data\\test\\images\\loikumh_jpeg.rf.77c17e6acb2ff05e088e56ecd78c5152.jpg: 640x640 (no detections), 54.5ms\n",
      "image 132/184 c:\\Users\\viren\\Portfolio\\Object Detection\\data\\test\\images\\loiyhn_jpeg.rf.ca67fd44ec716351c317dfde38765996.jpg: 640x640 (no detections), 61.2ms\n",
      "image 133/184 c:\\Users\\viren\\Portfolio\\Object Detection\\data\\test\\images\\mkji_jpeg.rf.3ac9e9d4294259d57a7606ed5ba553c6.jpg: 640x640 (no detections), 61.8ms\n",
      "image 134/184 c:\\Users\\viren\\Portfolio\\Object Detection\\data\\test\\images\\mvtkor_jpeg.rf.b7a18076fbf896a598c15549ea4c9a7f.jpg: 640x640 (no detections), 56.1ms\n",
      "image 135/184 c:\\Users\\viren\\Portfolio\\Object Detection\\data\\test\\images\\nbnn-jk_jpeg.rf.9632c6a5ee8ef81eec1c4e652379dad0.jpg: 640x640 (no detections), 55.4ms\n",
      "image 136/184 c:\\Users\\viren\\Portfolio\\Object Detection\\data\\test\\images\\nbnvfkd_jpeg.rf.55bf4ddc60ff6a9c134f47e7e0777ca0.jpg: 640x640 (no detections), 60.9ms\n",
      "image 137/184 c:\\Users\\viren\\Portfolio\\Object Detection\\data\\test\\images\\nbvbn_jpeg.rf.bc7bd04a8bf5570810c618c047676938.jpg: 640x640 1 virat_kohli, 61.2ms\n",
      "image 138/184 c:\\Users\\viren\\Portfolio\\Object Detection\\data\\test\\images\\ndhcjkd_jpeg.rf.ffe866bc1b2ec63f7a4444b211094f6a.jpg: 640x640 (no detections), 55.4ms\n",
      "image 139/184 c:\\Users\\viren\\Portfolio\\Object Detection\\data\\test\\images\\nfjhv_jpeg.rf.6643d13ec38932524b92bd0bfc1e14f3.jpg: 640x640 (no detections), 57.5ms\n",
      "image 140/184 c:\\Users\\viren\\Portfolio\\Object Detection\\data\\test\\images\\nfyutr_jpeg.rf.623c1ecf094b15c8ed0f828a500d5bc8.jpg: 640x640 (no detections), 59.9ms\n",
      "image 141/184 c:\\Users\\viren\\Portfolio\\Object Detection\\data\\test\\images\\njutg_jpeg.rf.6a761ca4d783e5f985bba33642837fd4.jpg: 640x640 (no detections), 55.3ms\n",
      "image 142/184 c:\\Users\\viren\\Portfolio\\Object Detection\\data\\test\\images\\nnmm_jpeg.rf.a2f08042387b156e1d37895c87d5505f.jpg: 640x640 (no detections), 56.3ms\n",
      "image 143/184 c:\\Users\\viren\\Portfolio\\Object Detection\\data\\test\\images\\oihujk_jpeg.rf.5fac04e73d0119c72d474b61a9e4903a.jpg: 640x640 (no detections), 59.7ms\n",
      "image 144/184 c:\\Users\\viren\\Portfolio\\Object Detection\\data\\test\\images\\oiinm_jpeg.rf.4e09a9fdaf4dd0f30931730cefa11ac4.jpg: 640x640 (no detections), 61.5ms\n",
      "image 145/184 c:\\Users\\viren\\Portfolio\\Object Detection\\data\\test\\images\\oijjo_jpeg.rf.c6f2f95265daa9dd6a6fe64429ff32c9.jpg: 640x640 (no detections), 56.6ms\n",
      "image 146/184 c:\\Users\\viren\\Portfolio\\Object Detection\\data\\test\\images\\oiuyt_jpeg.rf.66205fad96b30c9e8d3e481e492f0b74.jpg: 640x640 (no detections), 60.5ms\n",
      "image 147/184 c:\\Users\\viren\\Portfolio\\Object Detection\\data\\test\\images\\okijuy_jpeg.rf.86eebe7147157893966e201acce00d68.jpg: 640x640 (no detections), 58.9ms\n",
      "image 148/184 c:\\Users\\viren\\Portfolio\\Object Detection\\data\\test\\images\\olkiuj_jpeg.rf.cbf4a383e5395c7b953d64f5a3f0b487.jpg: 640x640 (no detections), 55.4ms\n",
      "image 149/184 c:\\Users\\viren\\Portfolio\\Object Detection\\data\\test\\images\\rutfg_jpeg.rf.c2c5230cc46651333ebfdb12104a962a.jpg: 640x640 1 virat_kohli, 56.1ms\n",
      "image 150/184 c:\\Users\\viren\\Portfolio\\Object Detection\\data\\test\\images\\ruyfjgh_jpeg.rf.4f64a1858eab9fee1671af0dee3acd49.jpg: 640x640 (no detections), 55.1ms\n",
      "image 151/184 c:\\Users\\viren\\Portfolio\\Object Detection\\data\\test\\images\\trjhfg_jpeg.rf.5ba7c8cdb0d920976878f43000dced86.jpg: 640x640 (no detections), 57.2ms\n",
      "image 152/184 c:\\Users\\viren\\Portfolio\\Object Detection\\data\\test\\images\\tuygj_jpeg.rf.6dbb96d97c6d918362d9ba75038ace15.jpg: 640x640 (no detections), 56.7ms\n",
      "image 153/184 c:\\Users\\viren\\Portfolio\\Object Detection\\data\\test\\images\\tygjh-Copy_jpeg.rf.7ff7c7f061597d7bfaf83518d90774e8.jpg: 640x640 (no detections), 58.9ms\n",
      "image 154/184 c:\\Users\\viren\\Portfolio\\Object Detection\\data\\test\\images\\tyjdfhg_jpeg.rf.58f664d897cdae9ac1dac76c804a6b40.jpg: 640x640 (no detections), 60.2ms\n",
      "image 155/184 c:\\Users\\viren\\Portfolio\\Object Detection\\data\\test\\images\\tyjhlp_jpeg.rf.5156ecd01a019a40e96f576809959d29.jpg: 640x640 (no detections), 64.1ms\n",
      "image 156/184 c:\\Users\\viren\\Portfolio\\Object Detection\\data\\test\\images\\tyktyk_jpeg.rf.2e6169d217946db4fecfc9eb3d869a86.jpg: 640x640 1 virat_kohli, 58.2ms\n",
      "image 157/184 c:\\Users\\viren\\Portfolio\\Object Detection\\data\\test\\images\\tyutu-Copy_jpeg.rf.5d87b88900d6ed94cbf6ec69f256d51d.jpg: 640x640 (no detections), 62.6ms\n",
      "image 158/184 c:\\Users\\viren\\Portfolio\\Object Detection\\data\\test\\images\\ufgvn_jpeg.rf.e953c099d12b59a4013661419cf9e7b4.jpg: 640x640 (no detections), 70.1ms\n",
      "image 159/184 c:\\Users\\viren\\Portfolio\\Object Detection\\data\\test\\images\\ugbjhg_jpeg.rf.e7d5b745cfd8cfe28b47b25de36a7570.jpg: 640x640 (no detections), 61.3ms\n",
      "image 160/184 c:\\Users\\viren\\Portfolio\\Object Detection\\data\\test\\images\\uigkjhg-Copy_jpeg.rf.bc429bff0ae017559b632718fc72fe69.jpg: 640x640 (no detections), 61.5ms\n",
      "image 161/184 c:\\Users\\viren\\Portfolio\\Object Detection\\data\\test\\images\\uiouo_jpeg.rf.3773ff6dc1275ec64f9b1b0f770c0664.jpg: 640x640 (no detections), 60.3ms\n",
      "image 162/184 c:\\Users\\viren\\Portfolio\\Object Detection\\data\\test\\images\\ujhyt_jpeg.rf.92cd1b109e5017e1e17029be95844053.jpg: 640x640 (no detections), 60.6ms\n",
      "image 163/184 c:\\Users\\viren\\Portfolio\\Object Detection\\data\\test\\images\\umnby_jpeg.rf.59ef5ccf75ff6628b683f934fc53b89d.jpg: 640x640 (no detections), 61.5ms\n",
      "image 164/184 c:\\Users\\viren\\Portfolio\\Object Detection\\data\\test\\images\\uryfjyufj-Copy_jpeg.rf.e787fdff6e6dc27ea4c6dad614788f6a.jpg: 640x640 1 ball, 59.5ms\n",
      "image 165/184 c:\\Users\\viren\\Portfolio\\Object Detection\\data\\test\\images\\uyhnm_jpeg.rf.5192e92ef7c68307cf7001019b6919f1.jpg: 640x640 (no detections), 62.4ms\n",
      "image 166/184 c:\\Users\\viren\\Portfolio\\Object Detection\\data\\test\\images\\uyjhmb_jpeg.rf.477ccc0674dd1765ecc0f6fdb97b6949.jpg: 640x640 (no detections), 57.7ms\n",
      "image 167/184 c:\\Users\\viren\\Portfolio\\Object Detection\\data\\test\\images\\uytnb_jpeg.rf.9778ccd5ad6eb7e076d7c660296a44f7.jpg: 640x640 1 stump, 58.4ms\n",
      "image 168/184 c:\\Users\\viren\\Portfolio\\Object Detection\\data\\test\\images\\vgmfvrfjc_jpeg.rf.83c35bd842d59b746a8ac62fe09c5d19.jpg: 640x640 (no detections), 55.9ms\n",
      "image 169/184 c:\\Users\\viren\\Portfolio\\Object Detection\\data\\test\\images\\vndhr_jpeg.rf.e6a0ae5656e39dd0578508ddd14434f1.jpg: 640x640 (no detections), 58.0ms\n",
      "image 170/184 c:\\Users\\viren\\Portfolio\\Object Detection\\data\\test\\images\\ygjh_jpeg.rf.9c5ac85fd6b58995422f43b61382b4f2.jpg: 640x640 (no detections), 56.6ms\n",
      "image 171/184 c:\\Users\\viren\\Portfolio\\Object Detection\\data\\test\\images\\yhrbg_jpeg.rf.119703d454e676377a1427fa394ce2e4.jpg: 640x640 (no detections), 56.7ms\n",
      "image 172/184 c:\\Users\\viren\\Portfolio\\Object Detection\\data\\test\\images\\yihki_jpeg.rf.89943ec63b46de30f2814b28cc7780c1.jpg: 640x640 (no detections), 58.7ms\n",
      "image 173/184 c:\\Users\\viren\\Portfolio\\Object Detection\\data\\test\\images\\yjfhjh_jpeg.rf.998a025e22679ee2d216199d79b49975.jpg: 640x640 (no detections), 59.9ms\n",
      "image 174/184 c:\\Users\\viren\\Portfolio\\Object Detection\\data\\test\\images\\yjfnj_jpeg.rf.4517b233c586ffcadf749ad6f598a12b.jpg: 640x640 (no detections), 59.1ms\n",
      "image 175/184 c:\\Users\\viren\\Portfolio\\Object Detection\\data\\test\\images\\yjghvgyj_jpeg.rf.7f7dcd68ce6b6db70e791c1cdd1c2799.jpg: 640x640 1 virat_kohli, 63.0ms\n",
      "image 176/184 c:\\Users\\viren\\Portfolio\\Object Detection\\data\\test\\images\\yjht_jpeg.rf.b7de4942ae34e7d0551e23a6c1f8491e.jpg: 640x640 (no detections), 61.7ms\n",
      "image 177/184 c:\\Users\\viren\\Portfolio\\Object Detection\\data\\test\\images\\yjnthbgr_jpeg.rf.5cbb6c903be4d7b8289f7f5b1e5a1fed.jpg: 640x640 (no detections), 59.7ms\n",
      "image 178/184 c:\\Users\\viren\\Portfolio\\Object Detection\\data\\test\\images\\yoilh_jpeg.rf.a13c261bc275ae567987daac4a7b7422.jpg: 640x640 (no detections), 66.3ms\n",
      "image 179/184 c:\\Users\\viren\\Portfolio\\Object Detection\\data\\test\\images\\ythbrg_jpeg.rf.29b1d310aadbc644928bf39c7b731a91.jpg: 640x640 (no detections), 93.6ms\n",
      "image 180/184 c:\\Users\\viren\\Portfolio\\Object Detection\\data\\test\\images\\ytugjg_jpeg.rf.1f25f79d09f185f4e4697c2dd0ad2b0e.jpg: 640x640 (no detections), 59.8ms\n",
      "image 181/184 c:\\Users\\viren\\Portfolio\\Object Detection\\data\\test\\images\\yufyu_jpeg.rf.a75c80c06ef0df2c5bc658d18ff16801.jpg: 640x640 (no detections), 60.9ms\n",
      "image 182/184 c:\\Users\\viren\\Portfolio\\Object Detection\\data\\test\\images\\yujg_jpeg.rf.eede7c18d41d546f013e9295f352a890.jpg: 640x640 (no detections), 62.1ms\n",
      "image 183/184 c:\\Users\\viren\\Portfolio\\Object Detection\\data\\test\\images\\yumnthb_jpeg.rf.834712dd7b03f30d826f907d2c1d1a6e.jpg: 640x640 (no detections), 57.2ms\n",
      "image 184/184 c:\\Users\\viren\\Portfolio\\Object Detection\\data\\test\\images\\yutjv_jpeg.rf.3c36301beb371f6a549e9d38fb9c7760.jpg: 640x640 (no detections), 60.9ms\n",
      "Speed: 2.3ms preprocess, 59.9ms inference, 0.5ms postprocess per image at shape (1, 3, 640, 640)\n",
      "Results saved to \u001b[1mruns\\detect\\predict2\u001b[0m\n"
     ]
    }
   ],
   "source": [
    "test_results = trained_model('data/test/images', save = True)"
   ]
  },
  {
   "cell_type": "code",
   "execution_count": 4,
   "metadata": {},
   "outputs": [
    {
     "name": "stdout",
     "output_type": "stream",
     "text": [
      "\n",
      "image 1/128 c:\\Users\\viren\\Portfolio\\Segmentation\\data\\test\\images\\y154_jpg.rf.bcc8bca03d5c754b1c3fecab26584b79.jpg: 416x416 1 tumor, 17.5ms\n",
      "image 2/128 c:\\Users\\viren\\Portfolio\\Segmentation\\data\\test\\images\\y172_jpg.rf.1de5e52261087615739339dfec693873.jpg: 416x416 1 tumor, 22.3ms\n",
      "image 3/128 c:\\Users\\viren\\Portfolio\\Segmentation\\data\\test\\images\\y17_jpg.rf.00e73d21eb12c3ad8e3cb3b5a87805b8.jpg: 416x416 1 tumor, 12.6ms\n",
      "image 4/128 c:\\Users\\viren\\Portfolio\\Segmentation\\data\\test\\images\\y192_jpg.rf.d4ef756fbf9c0fd35dc411b61f8aa184.jpg: 416x416 1 tumor, 19.0ms\n",
      "image 5/128 c:\\Users\\viren\\Portfolio\\Segmentation\\data\\test\\images\\y193_jpg.rf.898204dcdfcff60fff55f3734567e205.jpg: 416x416 1 tumor, 13.4ms\n",
      "image 6/128 c:\\Users\\viren\\Portfolio\\Segmentation\\data\\test\\images\\y193_jpg.rf.d75ad28b5fae3f14d696dfc98ef3d326.jpg: 416x416 1 tumor, 13.5ms\n",
      "image 7/128 c:\\Users\\viren\\Portfolio\\Segmentation\\data\\test\\images\\y196_jpg.rf.cb679791b2f16798391d0a24d51aca4c.jpg: 416x416 1 tumor, 13.6ms\n",
      "image 8/128 c:\\Users\\viren\\Portfolio\\Segmentation\\data\\test\\images\\y197_jpg.rf.bf846157858d9835059250fd69f91316.jpg: 416x416 1 tumor, 13.4ms\n",
      "image 9/128 c:\\Users\\viren\\Portfolio\\Segmentation\\data\\test\\images\\y203_jpg.rf.5eac47d062461c86f0e045bc27423a8b.jpg: 416x416 1 tumor, 14.0ms\n",
      "image 10/128 c:\\Users\\viren\\Portfolio\\Segmentation\\data\\test\\images\\y206_jpg.rf.02264d8bb70ebe5362289d7e7530bf0a.jpg: 416x416 1 tumor, 19.0ms\n",
      "image 11/128 c:\\Users\\viren\\Portfolio\\Segmentation\\data\\test\\images\\y20_jpg.rf.abe2b70248a1bbf48d3ffda9eee6cdc6.jpg: 416x416 1 tumor, 12.6ms\n",
      "image 12/128 c:\\Users\\viren\\Portfolio\\Segmentation\\data\\test\\images\\y211_jpg.rf.5618bdef34e0601650594f5158677445.jpg: 416x416 3 tumors, 13.3ms\n",
      "image 13/128 c:\\Users\\viren\\Portfolio\\Segmentation\\data\\test\\images\\y212_jpg.rf.72e45d9e3c51f671de6d8ed263be0297.jpg: 416x416 2 tumors, 19.0ms\n",
      "image 14/128 c:\\Users\\viren\\Portfolio\\Segmentation\\data\\test\\images\\y214_jpg.rf.244d5cc7656fd8439aa380e5f4fdc68d.jpg: 416x416 1 tumor, 18.0ms\n",
      "image 15/128 c:\\Users\\viren\\Portfolio\\Segmentation\\data\\test\\images\\y215_jpg.rf.e347e755cb90faf7edf47c621b4a8304.jpg: 416x416 1 tumor, 13.1ms\n",
      "image 16/128 c:\\Users\\viren\\Portfolio\\Segmentation\\data\\test\\images\\y219_jpg.rf.ac80414e9b84b3412c3c103d1085e9ea.jpg: 416x416 2 tumors, 12.3ms\n",
      "image 17/128 c:\\Users\\viren\\Portfolio\\Segmentation\\data\\test\\images\\y220_jpg.rf.684cb074b0e09de8fef68a8dd70091af.jpg: 416x416 1 tumor, 12.4ms\n",
      "image 18/128 c:\\Users\\viren\\Portfolio\\Segmentation\\data\\test\\images\\y223_jpg.rf.44024f50537bf35346784d297c0f5db0.jpg: 416x416 1 tumor, 12.8ms\n",
      "image 19/128 c:\\Users\\viren\\Portfolio\\Segmentation\\data\\test\\images\\y226_jpg.rf.8f8ec16eae5bae2efaccbd472f12527d.jpg: 416x416 1 tumor, 19.0ms\n",
      "image 20/128 c:\\Users\\viren\\Portfolio\\Segmentation\\data\\test\\images\\y227_jpg.rf.11f39bafa70f0fd3cbc2789e938bdf66.jpg: 416x416 1 tumor, 12.2ms\n",
      "image 21/128 c:\\Users\\viren\\Portfolio\\Segmentation\\data\\test\\images\\y229_jpg.rf.f11e50c33cad130ec0ab336855b9f612.jpg: 416x416 1 tumor, 13.3ms\n",
      "image 22/128 c:\\Users\\viren\\Portfolio\\Segmentation\\data\\test\\images\\y22_jpg.rf.59b3ba18ecb188d38b3009454c9dfa71.jpg: 416x416 1 tumor, 13.5ms\n",
      "image 23/128 c:\\Users\\viren\\Portfolio\\Segmentation\\data\\test\\images\\y231_jpg.rf.633aad1328d31df7b58f34b642a6d977.jpg: 416x416 1 tumor, 12.8ms\n",
      "image 24/128 c:\\Users\\viren\\Portfolio\\Segmentation\\data\\test\\images\\y235_jpg.rf.d17d7d777e29cd3d513dc42ad9f7fee8.jpg: 416x416 1 tumor, 12.0ms\n",
      "image 25/128 c:\\Users\\viren\\Portfolio\\Segmentation\\data\\test\\images\\y237_jpg.rf.f491881ce7419f0c3a71edf48beb9d54.jpg: 416x416 1 tumor, 13.6ms\n",
      "image 26/128 c:\\Users\\viren\\Portfolio\\Segmentation\\data\\test\\images\\y244_jpg.rf.031e9996257d2c1a6edaf922d0ceac52.jpg: 416x416 1 tumor, 13.5ms\n",
      "image 27/128 c:\\Users\\viren\\Portfolio\\Segmentation\\data\\test\\images\\y246_jpg.rf.a5c845a5035a9d67f582ebb77c7827d8.jpg: 416x416 1 tumor, 13.1ms\n",
      "image 28/128 c:\\Users\\viren\\Portfolio\\Segmentation\\data\\test\\images\\y248_jpg.rf.7dcf3f7d8994dc70806cfd621f314d4d.jpg: 416x416 1 tumor, 19.0ms\n",
      "image 29/128 c:\\Users\\viren\\Portfolio\\Segmentation\\data\\test\\images\\y24_jpg.rf.fb38d2fa2d2a65044130bd1d2b60bb7b.jpg: 416x416 1 tumor, 13.4ms\n",
      "image 30/128 c:\\Users\\viren\\Portfolio\\Segmentation\\data\\test\\images\\y261_jpg.rf.6f30895866da1338aaba2e7bc18bd121.jpg: 416x416 1 tumor, 13.2ms\n",
      "image 31/128 c:\\Users\\viren\\Portfolio\\Segmentation\\data\\test\\images\\y266_jpg.rf.326237ba8d9f2fdce729c716037af1a2.jpg: 416x416 1 tumor, 13.4ms\n",
      "image 32/128 c:\\Users\\viren\\Portfolio\\Segmentation\\data\\test\\images\\y267_jpg.rf.76371ddcabe9b93737a5acfa27696139.jpg: 416x416 1 tumor, 13.6ms\n",
      "image 33/128 c:\\Users\\viren\\Portfolio\\Segmentation\\data\\test\\images\\y269_jpg.rf.62ff6005a58f4597068ab801b1159052.jpg: 416x416 1 tumor, 22.3ms\n",
      "image 34/128 c:\\Users\\viren\\Portfolio\\Segmentation\\data\\test\\images\\y26_jpg.rf.66a4e14672f412fba179aeb51d6ea3b9.jpg: 416x416 1 tumor, 12.5ms\n",
      "image 35/128 c:\\Users\\viren\\Portfolio\\Segmentation\\data\\test\\images\\y26_jpg.rf.dd06fd7b365d8bf711ba41520674c071.jpg: 416x416 1 tumor, 18.0ms\n",
      "image 36/128 c:\\Users\\viren\\Portfolio\\Segmentation\\data\\test\\images\\y272_jpg.rf.6e2ed670212f69c6369b1556fca416e6.jpg: 416x416 1 tumor, 27.1ms\n",
      "image 37/128 c:\\Users\\viren\\Portfolio\\Segmentation\\data\\test\\images\\y279_jpg.rf.5b48d6a2ddd7e9e798c10cb38cb4fa4f.jpg: 416x416 1 tumor, 13.0ms\n",
      "image 38/128 c:\\Users\\viren\\Portfolio\\Segmentation\\data\\test\\images\\y282_jpg.rf.f4da8c9c6ea22c3a69cd5ab050b40d8b.jpg: 416x416 1 tumor, 13.0ms\n",
      "image 39/128 c:\\Users\\viren\\Portfolio\\Segmentation\\data\\test\\images\\y283_jpg.rf.28b3fbe1525e7964519dda3080b9fa53.jpg: 416x416 2 tumors, 12.6ms\n",
      "image 40/128 c:\\Users\\viren\\Portfolio\\Segmentation\\data\\test\\images\\y289_jpg.rf.444e0ab4dad155a2a5bea5d92abc0a8c.jpg: 416x416 3 tumors, 13.1ms\n",
      "image 41/128 c:\\Users\\viren\\Portfolio\\Segmentation\\data\\test\\images\\y294_jpg.rf.c7c142e2e0915b1b056bf923028eacb6.jpg: 416x416 1 tumor, 12.7ms\n",
      "image 42/128 c:\\Users\\viren\\Portfolio\\Segmentation\\data\\test\\images\\y296_jpg.rf.3d88c811992e05bf8555fb4a609d7d9d.jpg: 416x416 1 tumor, 18.0ms\n",
      "image 43/128 c:\\Users\\viren\\Portfolio\\Segmentation\\data\\test\\images\\y2_jpg.rf.f92efc4de05a488452943801fa495bdc.jpg: 416x416 1 tumor, 26.6ms\n",
      "image 44/128 c:\\Users\\viren\\Portfolio\\Segmentation\\data\\test\\images\\y305_jpg.rf.233cd3ed359d9cfd5412054ca049273a.jpg: 416x416 1 tumor, 12.5ms\n",
      "image 45/128 c:\\Users\\viren\\Portfolio\\Segmentation\\data\\test\\images\\y309_jpg.rf.fa802ea409762eef0c388abb0a695142.jpg: 416x416 1 tumor, 18.0ms\n",
      "image 46/128 c:\\Users\\viren\\Portfolio\\Segmentation\\data\\test\\images\\y30_jpg.rf.cd9f90bf00a006857cdf05cc96b282aa.jpg: 416x416 1 tumor, 16.8ms\n",
      "image 47/128 c:\\Users\\viren\\Portfolio\\Segmentation\\data\\test\\images\\y310_jpg.rf.269ddd9ea2cf02a25d8174e4ab638af8.jpg: 416x416 1 tumor, 17.0ms\n",
      "image 48/128 c:\\Users\\viren\\Portfolio\\Segmentation\\data\\test\\images\\y311_jpg.rf.4b32f6b249f67a750b8faf890691b97a.jpg: 416x416 1 tumor, 18.0ms\n",
      "image 49/128 c:\\Users\\viren\\Portfolio\\Segmentation\\data\\test\\images\\y315_jpg.rf.1ead04a8b525f82851025faf2c132162.jpg: 416x416 1 tumor, 18.5ms\n",
      "image 50/128 c:\\Users\\viren\\Portfolio\\Segmentation\\data\\test\\images\\y316_jpg.rf.4338feb98a8ddb36520f97e818d14372.jpg: 416x416 1 tumor, 18.0ms\n",
      "image 51/128 c:\\Users\\viren\\Portfolio\\Segmentation\\data\\test\\images\\y316_jpg.rf.57790816d63301124e5dc711f0b23cfe.jpg: 416x416 1 tumor, 13.5ms\n",
      "image 52/128 c:\\Users\\viren\\Portfolio\\Segmentation\\data\\test\\images\\y318_jpg.rf.420f9a3ca03934f198e7e12e0cc58136.jpg: 416x416 1 tumor, 13.1ms\n",
      "image 53/128 c:\\Users\\viren\\Portfolio\\Segmentation\\data\\test\\images\\y322_jpg.rf.4ab8c0d2780a164e9df1b67a6c2550f8.jpg: 416x416 1 tumor, 19.0ms\n",
      "image 54/128 c:\\Users\\viren\\Portfolio\\Segmentation\\data\\test\\images\\y323_jpg.rf.c53b12339c3892e2b87d01be520b3267.jpg: 416x416 1 tumor, 18.0ms\n",
      "image 55/128 c:\\Users\\viren\\Portfolio\\Segmentation\\data\\test\\images\\y326_jpg.rf.978f2905f563c0d4322b2e107ee461e9.jpg: 416x416 1 tumor, 15.3ms\n",
      "image 56/128 c:\\Users\\viren\\Portfolio\\Segmentation\\data\\test\\images\\y327_jpg.rf.b86897387e9a4b9e989ffc7534f87684.jpg: 416x416 1 tumor, 13.9ms\n",
      "image 57/128 c:\\Users\\viren\\Portfolio\\Segmentation\\data\\test\\images\\y327_jpg.rf.dd30f7adc2ab3459012655a8c4a9e629.jpg: 416x416 1 tumor, 14.3ms\n",
      "image 58/128 c:\\Users\\viren\\Portfolio\\Segmentation\\data\\test\\images\\y32_jpg.rf.58915b076e574e95bfb325099e2d099d.jpg: 416x416 2 tumors, 13.7ms\n",
      "image 59/128 c:\\Users\\viren\\Portfolio\\Segmentation\\data\\test\\images\\y32_jpg.rf.5beeadc805866ea97b8b0e8f1a16bbba.jpg: 416x416 1 tumor, 18.0ms\n",
      "image 60/128 c:\\Users\\viren\\Portfolio\\Segmentation\\data\\test\\images\\y330_jpg.rf.2235d8718d96ad475f6a1029248a1661.jpg: 416x416 1 tumor, 13.7ms\n",
      "image 61/128 c:\\Users\\viren\\Portfolio\\Segmentation\\data\\test\\images\\y330_jpg.rf.5daeb3680ba3519fce1bd7707bf71f56.jpg: 416x416 1 tumor, 14.2ms\n",
      "image 62/128 c:\\Users\\viren\\Portfolio\\Segmentation\\data\\test\\images\\y331_jpg.rf.ed3c8aac557cff03f043e31d5e82a350.jpg: 416x416 2 tumors, 14.8ms\n",
      "image 63/128 c:\\Users\\viren\\Portfolio\\Segmentation\\data\\test\\images\\y333_jpg.rf.3331fae0d26f43cf96cafebdecc887cb.jpg: 416x416 1 tumor, 15.9ms\n",
      "image 64/128 c:\\Users\\viren\\Portfolio\\Segmentation\\data\\test\\images\\y337_jpg.rf.2750a002c017b8da67ec976030deae36.jpg: 416x416 1 tumor, 14.1ms\n",
      "image 65/128 c:\\Users\\viren\\Portfolio\\Segmentation\\data\\test\\images\\y338_jpg.rf.0b9fb9f5c963c8416cc9b0a25f9745a2.jpg: 416x416 1 tumor, 13.4ms\n",
      "image 66/128 c:\\Users\\viren\\Portfolio\\Segmentation\\data\\test\\images\\y341_jpg.rf.d8052fe825c7e1a4b54d8a6554890c6f.jpg: 416x416 1 tumor, 19.0ms\n",
      "image 67/128 c:\\Users\\viren\\Portfolio\\Segmentation\\data\\test\\images\\y343_jpg.rf.f903bcba48e618bb3b72391f5f3ae335.jpg: 416x416 1 tumor, 13.3ms\n",
      "image 68/128 c:\\Users\\viren\\Portfolio\\Segmentation\\data\\test\\images\\y347_jpg.rf.104b5ac5068a6635c3f1ca953e48f9c2.jpg: 416x416 1 tumor, 13.2ms\n",
      "image 69/128 c:\\Users\\viren\\Portfolio\\Segmentation\\data\\test\\images\\y351_jpg.rf.c8826b13fad491ee45eadc33d53760be.jpg: 416x416 1 tumor, 13.7ms\n",
      "image 70/128 c:\\Users\\viren\\Portfolio\\Segmentation\\data\\test\\images\\y354_jpg.rf.74e6917bd94ec01a28ca0e86550174aa.jpg: 416x416 1 tumor, 12.5ms\n",
      "image 71/128 c:\\Users\\viren\\Portfolio\\Segmentation\\data\\test\\images\\y355_jpg.rf.79836173df56f2ed07ae6d67dcac356e.jpg: 416x416 1 tumor, 18.0ms\n",
      "image 72/128 c:\\Users\\viren\\Portfolio\\Segmentation\\data\\test\\images\\y357_jpg.rf.8444d4d1cf7674984cd3f09a65076726.jpg: 416x416 1 tumor, 18.4ms\n",
      "image 73/128 c:\\Users\\viren\\Portfolio\\Segmentation\\data\\test\\images\\y359_jpg.rf.c81649fe5602293c1cd5327757fb5701.jpg: 416x416 1 tumor, 15.0ms\n",
      "image 74/128 c:\\Users\\viren\\Portfolio\\Segmentation\\data\\test\\images\\y35_jpg.rf.3d00a2a2b1b202ca9ec89edac7726e96.jpg: 416x416 1 tumor, 25.6ms\n",
      "image 75/128 c:\\Users\\viren\\Portfolio\\Segmentation\\data\\test\\images\\y35_jpg.rf.76cc499ca120715b4aa08c9acd6e0868.jpg: 416x416 1 tumor, 13.0ms\n",
      "image 76/128 c:\\Users\\viren\\Portfolio\\Segmentation\\data\\test\\images\\y360_jpg.rf.057491d53fb9cb2760372e472999af54.jpg: 416x416 1 tumor, 14.1ms\n",
      "image 77/128 c:\\Users\\viren\\Portfolio\\Segmentation\\data\\test\\images\\y361_jpg.rf.284a4d14564ded7dec82fbda78a236fb.jpg: 416x416 1 tumor, 17.6ms\n",
      "image 78/128 c:\\Users\\viren\\Portfolio\\Segmentation\\data\\test\\images\\y365_jpg.rf.4ac18bf14af9c611418ffa5836bbca3c.jpg: 416x416 1 tumor, 14.0ms\n",
      "image 79/128 c:\\Users\\viren\\Portfolio\\Segmentation\\data\\test\\images\\y367_jpg.rf.3117f64cdcd674214d8c291e79f2af2d.jpg: 416x416 1 tumor, 14.4ms\n",
      "image 80/128 c:\\Users\\viren\\Portfolio\\Segmentation\\data\\test\\images\\y370_jpg.rf.1bfb96b99090833236b7a8e639183b22.jpg: 416x416 1 tumor, 13.5ms\n",
      "image 81/128 c:\\Users\\viren\\Portfolio\\Segmentation\\data\\test\\images\\y370_jpg.rf.49a2132343dd030366db6cb621aee362.jpg: 416x416 1 tumor, 15.8ms\n",
      "image 82/128 c:\\Users\\viren\\Portfolio\\Segmentation\\data\\test\\images\\y376_jpg.rf.3af3f7d3d3358a3aec1a196c872650a1.jpg: 416x416 2 tumors, 18.4ms\n",
      "image 83/128 c:\\Users\\viren\\Portfolio\\Segmentation\\data\\test\\images\\y382_jpg.rf.a6190a4c17f4738c239beba37d5b6a67.jpg: 416x416 1 tumor, 17.4ms\n",
      "image 84/128 c:\\Users\\viren\\Portfolio\\Segmentation\\data\\test\\images\\y382_jpg.rf.e87699c15461277e22e0e31633c99a60.jpg: 416x416 1 tumor, 17.8ms\n",
      "image 85/128 c:\\Users\\viren\\Portfolio\\Segmentation\\data\\test\\images\\y385_jpg.rf.65ff1df13afde4b647dfe3af5d130ecb.jpg: 416x416 1 tumor, 18.0ms\n",
      "image 86/128 c:\\Users\\viren\\Portfolio\\Segmentation\\data\\test\\images\\y386_jpg.rf.ab0836b5fb25b46491536433ea5146d5.jpg: 416x416 1 tumor, 18.6ms\n",
      "image 87/128 c:\\Users\\viren\\Portfolio\\Segmentation\\data\\test\\images\\y387_jpg.rf.2e8c6d2e760b2d1298ba0afeb6c511bb.jpg: 416x416 1 tumor, 18.8ms\n",
      "image 88/128 c:\\Users\\viren\\Portfolio\\Segmentation\\data\\test\\images\\y387_jpg.rf.bda343dd57e6fd2128be3bfd0724ff3e.jpg: 416x416 1 tumor, 13.0ms\n",
      "image 89/128 c:\\Users\\viren\\Portfolio\\Segmentation\\data\\test\\images\\y388_jpg.rf.24fd52c1be8a51568bab15139006de50.jpg: 416x416 2 tumors, 13.0ms\n",
      "image 90/128 c:\\Users\\viren\\Portfolio\\Segmentation\\data\\test\\images\\y38_jpg.rf.97f18dd8238f0aeede9d357d7e2be177.jpg: 416x416 1 tumor, 13.0ms\n",
      "image 91/128 c:\\Users\\viren\\Portfolio\\Segmentation\\data\\test\\images\\y392_jpg.rf.07d1857bffe48b46d5d413d304bb8827.jpg: 416x416 1 tumor, 13.0ms\n",
      "image 92/128 c:\\Users\\viren\\Portfolio\\Segmentation\\data\\test\\images\\y392_jpg.rf.b3241f0196180b09d55fd9737f769210.jpg: 416x416 1 tumor, 12.3ms\n",
      "image 93/128 c:\\Users\\viren\\Portfolio\\Segmentation\\data\\test\\images\\y392_jpg.rf.b38e5275b07d6bade3541e650455f8b6.jpg: 416x416 1 tumor, 14.0ms\n",
      "image 94/128 c:\\Users\\viren\\Portfolio\\Segmentation\\data\\test\\images\\y393_jpg.rf.ae00849a874b0669ac61aafcc6cbbe02.jpg: 416x416 1 tumor, 12.3ms\n",
      "image 95/128 c:\\Users\\viren\\Portfolio\\Segmentation\\data\\test\\images\\y399_jpg.rf.f8dc34cf090ec6e644adeb72087ae652.jpg: 416x416 1 tumor, 12.9ms\n",
      "image 96/128 c:\\Users\\viren\\Portfolio\\Segmentation\\data\\test\\images\\y401_jpg.rf.a91acc49a9427b0ebf276707191cf007.jpg: 416x416 1 tumor, 25.5ms\n",
      "image 97/128 c:\\Users\\viren\\Portfolio\\Segmentation\\data\\test\\images\\y404_jpg.rf.a223746d99c23fb067010693eac2ecc0.jpg: 416x416 1 tumor, 26.3ms\n",
      "image 98/128 c:\\Users\\viren\\Portfolio\\Segmentation\\data\\test\\images\\y409_jpg.rf.3f28f647f62a2550a14652f68f310ded.jpg: 416x416 1 tumor, 14.9ms\n",
      "image 99/128 c:\\Users\\viren\\Portfolio\\Segmentation\\data\\test\\images\\y412_jpg.rf.04268fa3b5997e5b9a52732d1371af32.jpg: 416x416 1 tumor, 13.6ms\n",
      "image 100/128 c:\\Users\\viren\\Portfolio\\Segmentation\\data\\test\\images\\y414_jpg.rf.cfbe89a72e8b68d0a452f002a77b448d.jpg: 416x416 1 tumor, 15.8ms\n",
      "image 101/128 c:\\Users\\viren\\Portfolio\\Segmentation\\data\\test\\images\\y420_jpg.rf.993b0cef06ec050fc611b6cf549f6883.jpg: 416x416 1 tumor, 13.9ms\n",
      "image 102/128 c:\\Users\\viren\\Portfolio\\Segmentation\\data\\test\\images\\y421_jpg.rf.4754ed51c50c08484cd29f3d18bfaff5.jpg: 416x416 1 tumor, 13.4ms\n",
      "image 103/128 c:\\Users\\viren\\Portfolio\\Segmentation\\data\\test\\images\\y427_jpg.rf.6e0441a79e177b1c4425656ad1702c03.jpg: 416x416 2 tumors, 13.0ms\n",
      "image 104/128 c:\\Users\\viren\\Portfolio\\Segmentation\\data\\test\\images\\y42_jpg.rf.3c4cefb531ce26bb86ba7f832dd3151f.jpg: 416x416 2 tumors, 13.0ms\n",
      "image 105/128 c:\\Users\\viren\\Portfolio\\Segmentation\\data\\test\\images\\y434_jpg.rf.743f730a289ac31362ce15e2de73a533.jpg: 416x416 1 tumor, 13.0ms\n",
      "image 106/128 c:\\Users\\viren\\Portfolio\\Segmentation\\data\\test\\images\\y435_jpg.rf.ef16422b7b940ced6353ab2d1b88ecbc.jpg: 416x416 1 tumor, 12.9ms\n",
      "image 107/128 c:\\Users\\viren\\Portfolio\\Segmentation\\data\\test\\images\\y437_jpg.rf.0ef77e16f9c17d598e3a32fa4ebb0674.jpg: 416x416 1 tumor, 13.0ms\n",
      "image 108/128 c:\\Users\\viren\\Portfolio\\Segmentation\\data\\test\\images\\y437_jpg.rf.aa78cff0a474b9717cdf030142d90959.jpg: 416x416 1 tumor, 13.0ms\n",
      "image 109/128 c:\\Users\\viren\\Portfolio\\Segmentation\\data\\test\\images\\y438_jpg.rf.66a24d9d30c35d724bb92961d4e109b1.jpg: 416x416 1 tumor, 18.3ms\n",
      "image 110/128 c:\\Users\\viren\\Portfolio\\Segmentation\\data\\test\\images\\y439_jpg.rf.21a93c7415bef9bd9897bff99d551dab.jpg: 416x416 1 tumor, 12.7ms\n",
      "image 111/128 c:\\Users\\viren\\Portfolio\\Segmentation\\data\\test\\images\\y43_jpg.rf.34ebdb1efac284be09ee5ba1156a675d.jpg: 416x416 1 tumor, 26.4ms\n",
      "image 112/128 c:\\Users\\viren\\Portfolio\\Segmentation\\data\\test\\images\\y43_jpg.rf.81952017c3c5f275f5b77f340811ed0b.jpg: 416x416 1 tumor, 25.7ms\n",
      "image 113/128 c:\\Users\\viren\\Portfolio\\Segmentation\\data\\test\\images\\y440_jpg.rf.45350b8b64fa3d3c38f6c3261fb19cb3.jpg: 416x416 1 tumor, 13.8ms\n",
      "image 114/128 c:\\Users\\viren\\Portfolio\\Segmentation\\data\\test\\images\\y440_jpg.rf.ebf6afd15aa170b52cfb873cc319478d.jpg: 416x416 2 tumors, 13.5ms\n",
      "image 115/128 c:\\Users\\viren\\Portfolio\\Segmentation\\data\\test\\images\\y447_jpg.rf.627c767da8f709148d82c9032148431d.jpg: 416x416 1 tumor, 17.8ms\n",
      "image 116/128 c:\\Users\\viren\\Portfolio\\Segmentation\\data\\test\\images\\y449_jpg.rf.0c01fbaa972e2532cac865488c8a1a91.jpg: 416x416 1 tumor, 26.2ms\n",
      "image 117/128 c:\\Users\\viren\\Portfolio\\Segmentation\\data\\test\\images\\y44_jpg.rf.40a61dea8a10dcccb5543764a95e037e.jpg: 416x416 1 tumor, 13.0ms\n",
      "image 118/128 c:\\Users\\viren\\Portfolio\\Segmentation\\data\\test\\images\\y450_jpg.rf.c74ace795243473fecba91d54c92afd0.jpg: 416x416 1 tumor, 14.7ms\n",
      "image 119/128 c:\\Users\\viren\\Portfolio\\Segmentation\\data\\test\\images\\y451_jpg.rf.c4b7f6f424d56f32061d2ce730484ead.jpg: 416x416 1 tumor, 17.2ms\n",
      "image 120/128 c:\\Users\\viren\\Portfolio\\Segmentation\\data\\test\\images\\y454_jpg.rf.e917e88c376928ebe5ac0b48b9b2752d.jpg: 416x416 1 tumor, 13.2ms\n",
      "image 121/128 c:\\Users\\viren\\Portfolio\\Segmentation\\data\\test\\images\\y457_jpg.rf.3b8c7187ef5ec89130ade8ab0eefe95b.jpg: 416x416 1 tumor, 13.0ms\n",
      "image 122/128 c:\\Users\\viren\\Portfolio\\Segmentation\\data\\test\\images\\y466_jpg.rf.38d0b8c9196d02d0502614366c525d21.jpg: 416x416 2 tumors, 13.9ms\n",
      "image 123/128 c:\\Users\\viren\\Portfolio\\Segmentation\\data\\test\\images\\y479_jpg.rf.8e6228a8ac6a976917d4e7bc95cd640e.jpg: 416x416 1 tumor, 18.0ms\n",
      "image 124/128 c:\\Users\\viren\\Portfolio\\Segmentation\\data\\test\\images\\y482_jpg.rf.54c9591bdb6b96d0abd712e488f41150.jpg: 416x416 1 tumor, 14.0ms\n",
      "image 125/128 c:\\Users\\viren\\Portfolio\\Segmentation\\data\\test\\images\\y490_jpg.rf.940281d10c9fba56616d49be40e4f001.jpg: 416x416 1 tumor, 13.7ms\n",
      "image 126/128 c:\\Users\\viren\\Portfolio\\Segmentation\\data\\test\\images\\y497_jpg.rf.9252aa7a93b66f2adc3330f88df58494.jpg: 416x416 1 tumor, 27.2ms\n",
      "image 127/128 c:\\Users\\viren\\Portfolio\\Segmentation\\data\\test\\images\\y500_jpg.rf.532d7c3e054bd3627b215d3662672792.jpg: 416x416 1 tumor, 26.8ms\n",
      "image 128/128 c:\\Users\\viren\\Portfolio\\Segmentation\\data\\test\\images\\y53_jpg.rf.963a2f0765b428444ef22d73ad4b380e.jpg: 416x416 1 tumor, 13.2ms\n",
      "Speed: 1.2ms preprocess, 15.8ms inference, 5.1ms postprocess per image at shape (1, 3, 416, 416)\n",
      "Results saved to \u001b[1mruns\\segment\\predict\u001b[0m\n"
     ]
    }
   ],
   "source": [
    "test_video_results = trained_model('data/test/images', save = True)"
   ]
  },
  {
   "cell_type": "code",
   "execution_count": null,
   "metadata": {},
   "outputs": [],
   "source": []
  }
 ],
 "metadata": {
  "kernelspec": {
   "display_name": ".venv",
   "language": "python",
   "name": "python3"
  },
  "language_info": {
   "codemirror_mode": {
    "name": "ipython",
    "version": 3
   },
   "file_extension": ".py",
   "mimetype": "text/x-python",
   "name": "python",
   "nbconvert_exporter": "python",
   "pygments_lexer": "ipython3",
   "version": "3.10.10"
  }
 },
 "nbformat": 4,
 "nbformat_minor": 2
}
